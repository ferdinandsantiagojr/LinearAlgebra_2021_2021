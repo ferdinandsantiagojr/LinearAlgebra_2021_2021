{
  "nbformat": 4,
  "nbformat_minor": 0,
  "metadata": {
    "colab": {
      "name": "Assignment9.ipynb",
      "provenance": [],
      "authorship_tag": "ABX9TyOAvC8emvzaQHOj26yCgC+m",
      "include_colab_link": true
    },
    "kernelspec": {
      "name": "python3",
      "display_name": "Python 3"
    },
    "language_info": {
      "name": "python"
    }
  },
  "cells": [
    {
      "cell_type": "markdown",
      "metadata": {
        "id": "view-in-github",
        "colab_type": "text"
      },
      "source": [
        "<a href=\"https://colab.research.google.com/github/frsantiagojr/LinearAlgebra_2021_2021/blob/main/Assignment9.ipynb\" target=\"_parent\"><img src=\"https://colab.research.google.com/assets/colab-badge.svg\" alt=\"Open In Colab\"/></a>"
      ]
    },
    {
      "cell_type": "markdown",
      "metadata": {
        "id": "kSfRnAIprzon"
      },
      "source": [
        "###**Lab 2 - Plotting Vector using NumPy and MatPlotLib**###\n"
      ]
    },
    {
      "cell_type": "markdown",
      "metadata": {
        "id": "ePizPVlmsFH0"
      },
      "source": [
        "In this laboratory we will be discussing the basics of numerical and scientific programming by working with Vectors using NumPy and MatPlotLib."
      ]
    },
    {
      "cell_type": "markdown",
      "metadata": {
        "id": "9RA4g0ousGdQ"
      },
      "source": [
        "####**Objectives**####"
      ]
    },
    {
      "cell_type": "markdown",
      "metadata": {
        "id": "sFuLSKY1scG9"
      },
      "source": [
        "At the end of this activity you will be able to:"
      ]
    },
    {
      "cell_type": "markdown",
      "metadata": {
        "id": "qFIIX7U_sgkp"
      },
      "source": [
        "\n",
        "\n",
        "1. Be familiar with the libraries in Python for numerical and scientific programming.\n",
        "2. Visualize vectors through Python programming.\n",
        "3. Perform simple vector operations through code.\n",
        "\n",
        "\n"
      ]
    },
    {
      "cell_type": "markdown",
      "metadata": {
        "id": "-vhEci7Nssxx"
      },
      "source": [
        "##**Discussion**##"
      ]
    },
    {
      "cell_type": "markdown",
      "metadata": {
        "id": "sURsdRMds5Oo"
      },
      "source": [
        "###**Numpy**###"
      ]
    },
    {
      "cell_type": "markdown",
      "metadata": {
        "id": "GfWKTRVxtE78"
      },
      "source": [
        "NumPy or Numerical Python, is mainly used for matrix and vector operations. It is capable of declaring computing and representing matrices. Most Python scientific programming libraries uses NumPy as the basic code.\n",
        "\n",
        "Scalars \\ Represent magnitude or a single value\n",
        "\n",
        "Vectors \\ Represent magnitude with directors"
      ]
    },
    {
      "cell_type": "markdown",
      "metadata": {
        "id": "AlGpHCXstHbF"
      },
      "source": [
        "###**Representing Vectors**###"
      ]
    },
    {
      "cell_type": "markdown",
      "metadata": {
        "id": "jDHI43cktRfE"
      },
      "source": [
        "Now that you know how to represent vectors using their component and matrix form we can now hard-code them in Python. Let's say that you have the vectors:"
      ]
    },
    {
      "cell_type": "markdown",
      "metadata": {
        "id": "RjYlW9Q4tuhA"
      },
      "source": [
        "$$ A = 4\\hat{x} + 3\\hat{y}, B = 2\\hat{x} - 5\\hat{y}, C = 4ax+3ay-2az, D = 2\\hat{i}-2\\hat{j}+3\\hat{k} $$"
      ]
    },
    {
      "cell_type": "markdown",
      "metadata": {
        "id": "h10j6UnItto6"
      },
      "source": [
        "In which it's matrix equivalent is:\n",
        "\n"
      ]
    },
    {
      "cell_type": "markdown",
      "metadata": {
        "id": "tuTK_U3UQsIH"
      },
      "source": [
        "$$ A = \\begin{bmatrix} 4 & 3\\end{bmatrix} , B = \\begin{bmatrix} 2 & -5\\end{bmatrix}, C = \\begin{bmatrix} 4 & 3 & -2\\end{bmatrix} , D = \\begin{bmatrix} 2 & -2 & 3\\end{bmatrix}\n",
        "$$"
      ]
    },
    {
      "cell_type": "markdown",
      "metadata": {
        "id": "I8DaGwG4R3gk"
      },
      "source": [
        "We can then start doing numpy code with this by:\n",
        "\n"
      ]
    },
    {
      "cell_type": "code",
      "metadata": {
        "id": "QGRYCyZLR5W3"
      },
      "source": [
        "import numpy as np\n"
      ],
      "execution_count": 1,
      "outputs": []
    },
    {
      "cell_type": "code",
      "metadata": {
        "colab": {
          "base_uri": "https://localhost:8080/"
        },
        "id": "yF-joDIeSAAv",
        "outputId": "9c699933-0919-43a4-8f2d-32bfcffb56a8"
      },
      "source": [
        "A = np.array([4, 3])\n",
        "B = np.array([2, -5])\n",
        "C = np.array([[4], [3], [-2]])\n",
        "D = np.array([[2], [-2], [3]])\n",
        "\n",
        "print('Vector A is ', A)\n",
        "print('Vector B is ', B)\n",
        "print('Vector C is ', C)\n",
        "print('Vector D is ', D)"
      ],
      "execution_count": 3,
      "outputs": [
        {
          "output_type": "stream",
          "name": "stdout",
          "text": [
            "Vector A is  [4 3]\n",
            "Vector B is  [ 2 -5]\n",
            "Vector C is  [[ 4]\n",
            " [ 3]\n",
            " [-2]]\n",
            "Vector D is  [[ 2]\n",
            " [-2]\n",
            " [ 3]]\n"
          ]
        }
      ]
    },
    {
      "cell_type": "markdown",
      "metadata": {
        "id": "I3P7SoO0t_RV"
      },
      "source": [
        "###**Describing vectors in NumPy**###"
      ]
    },
    {
      "cell_type": "markdown",
      "metadata": {
        "id": "1Hk3PLVNuLD-"
      },
      "source": [
        "Describing vectors is very important if we want to perform basic to advanced operations with them. The fundamental ways in describing vectors are knowing their shape, size and dimensions."
      ]
    },
    {
      "cell_type": "code",
      "metadata": {
        "colab": {
          "base_uri": "https://localhost:8080/"
        },
        "id": "kkMDXtROTt2E",
        "outputId": "adf83716-64e7-482d-8c21-221faba96cd1"
      },
      "source": [
        "H = np.array([1, 0, 2, 5, -0.2, 0])\n",
        "H.shape"
      ],
      "execution_count": 4,
      "outputs": [
        {
          "output_type": "execute_result",
          "data": {
            "text/plain": [
              "(6,)"
            ]
          },
          "metadata": {},
          "execution_count": 4
        }
      ]
    },
    {
      "cell_type": "code",
      "metadata": {
        "colab": {
          "base_uri": "https://localhost:8080/"
        },
        "id": "SCJKVzMlUMog",
        "outputId": "bd57bb19-c2c4-4341-be0b-45bb7938b0d3"
      },
      "source": [
        "H.ndim"
      ],
      "execution_count": 5,
      "outputs": [
        {
          "output_type": "execute_result",
          "data": {
            "text/plain": [
              "1"
            ]
          },
          "metadata": {},
          "execution_count": 5
        }
      ]
    },
    {
      "cell_type": "markdown",
      "metadata": {
        "id": "CAzbICDZuPd8"
      },
      "source": [
        "Great! Now let's try to explore in performing operations with these vectors.\n",
        "\n"
      ]
    },
    {
      "cell_type": "markdown",
      "metadata": {
        "id": "IQzbSpPCUpQ-"
      },
      "source": [
        "**Vector Addition**"
      ]
    },
    {
      "cell_type": "markdown",
      "metadata": {
        "id": "fKmnvDCdudNK"
      },
      "source": [
        "The addition rule is simple, the we just need to add the elements of the matrices according to their index. So in this case if we add vector $A$ and vector $B$ we will have a resulting vector:"
      ]
    },
    {
      "cell_type": "markdown",
      "metadata": {
        "id": "ALN3SYvguebP"
      },
      "source": [
        "$$R = 6\\hat{x}-2\\hat{y} \\\\ \\\\or \\\\ \\\\ R = \\begin{bmatrix} 6 \\\\ -2\\end{bmatrix} $$"
      ]
    },
    {
      "cell_type": "markdown",
      "metadata": {
        "id": "pEuP7VVzvnEx"
      },
      "source": [
        "So let's try to do that in NumPy in several number of ways:"
      ]
    },
    {
      "cell_type": "code",
      "metadata": {
        "colab": {
          "base_uri": "https://localhost:8080/"
        },
        "id": "QHAaKcFhUrJ_",
        "outputId": "09285672-6fa2-42ea-d2b0-5a088baec828"
      },
      "source": [
        "R = np.add(A, B)\n",
        "R"
      ],
      "execution_count": 6,
      "outputs": [
        {
          "output_type": "execute_result",
          "data": {
            "text/plain": [
              "array([ 6, -2])"
            ]
          },
          "metadata": {},
          "execution_count": 6
        }
      ]
    },
    {
      "cell_type": "code",
      "metadata": {
        "id": "16_wPzUIWPKv"
      },
      "source": [
        "pos1 = np.array([0, 0, 0])\n",
        "pos2 = np.array([0, 1, 3])\n",
        "pos3 = np.array([1, 5, -2])\n",
        "pos4 = np.array([5, -3, 3])\n"
      ],
      "execution_count": 7,
      "outputs": []
    },
    {
      "cell_type": "code",
      "metadata": {
        "colab": {
          "base_uri": "https://localhost:8080/"
        },
        "id": "N0oa_FsvWkn_",
        "outputId": "7ebe1afc-be93-41c3-f253-9c896d0eb554"
      },
      "source": [
        "R = pos3 / pos4\n",
        "R"
      ],
      "execution_count": 8,
      "outputs": [
        {
          "output_type": "execute_result",
          "data": {
            "text/plain": [
              "array([ 0.2       , -1.66666667, -0.66666667])"
            ]
          },
          "metadata": {},
          "execution_count": 8
        }
      ]
    },
    {
      "cell_type": "markdown",
      "metadata": {
        "id": "zRkdYX6yvwkP"
      },
      "source": [
        "Try to implement subtraction, multiplication, and division with vectors $A$ and $B$!"
      ]
    },
    {
      "cell_type": "code",
      "metadata": {
        "colab": {
          "base_uri": "https://localhost:8080/"
        },
        "id": "UBgQ3tCmwTI2",
        "outputId": "2a89822d-5902-4937-91bb-a16bb04d743e"
      },
      "source": [
        "#Subtraction\n",
        "np.subtract(A, B)"
      ],
      "execution_count": 10,
      "outputs": [
        {
          "output_type": "execute_result",
          "data": {
            "text/plain": [
              "array([2, 8])"
            ]
          },
          "metadata": {},
          "execution_count": 10
        }
      ]
    },
    {
      "cell_type": "code",
      "metadata": {
        "colab": {
          "base_uri": "https://localhost:8080/"
        },
        "id": "iOv1NVl7xeqL",
        "outputId": "6d6163b3-3883-47c6-bd19-be1c0ea86379"
      },
      "source": [
        "# Multiplication\n",
        "A @ B"
      ],
      "execution_count": 12,
      "outputs": [
        {
          "output_type": "execute_result",
          "data": {
            "text/plain": [
              "-7"
            ]
          },
          "metadata": {},
          "execution_count": 12
        }
      ]
    },
    {
      "cell_type": "code",
      "metadata": {
        "colab": {
          "base_uri": "https://localhost:8080/"
        },
        "id": "Nvr-q_GyxrGh",
        "outputId": "704aced1-5620-4fa2-95c4-37cc6c4e5b1e"
      },
      "source": [
        "# Division\n",
        "np.divide(A, B)"
      ],
      "execution_count": 13,
      "outputs": [
        {
          "output_type": "execute_result",
          "data": {
            "text/plain": [
              "array([ 2. , -0.6])"
            ]
          },
          "metadata": {},
          "execution_count": 13
        }
      ]
    },
    {
      "cell_type": "markdown",
      "metadata": {
        "id": "m9f68QPeXOdL"
      },
      "source": [
        "**Scaling**"
      ]
    },
    {
      "cell_type": "code",
      "metadata": {
        "colab": {
          "base_uri": "https://localhost:8080/"
        },
        "id": "vhaootw7XV8s",
        "outputId": "3541f7e4-e638-43e3-f5e2-1b5573b0b347"
      },
      "source": [
        "S = 5*A\n",
        "S"
      ],
      "execution_count": 16,
      "outputs": [
        {
          "output_type": "execute_result",
          "data": {
            "text/plain": [
              "array([20, 15])"
            ]
          },
          "metadata": {},
          "execution_count": 16
        }
      ]
    },
    {
      "cell_type": "markdown",
      "metadata": {
        "id": "Y8ksbB9VXiGI"
      },
      "source": [
        "Try to implement scaling with two vectors"
      ]
    },
    {
      "cell_type": "code",
      "metadata": {
        "colab": {
          "base_uri": "https://localhost:8080/"
        },
        "id": "6GEaCNn6wVqb",
        "outputId": "f51fa7d2-4a8b-4b04-8d6a-03cef6fbf132"
      },
      "source": [
        "#Scalling\n",
        "S1 = 3*D\n",
        "S1"
      ],
      "execution_count": 15,
      "outputs": [
        {
          "output_type": "execute_result",
          "data": {
            "text/plain": [
              "array([[ 6],\n",
              "       [-6],\n",
              "       [ 9]])"
            ]
          },
          "metadata": {},
          "execution_count": 15
        }
      ]
    },
    {
      "cell_type": "code",
      "metadata": {
        "colab": {
          "base_uri": "https://localhost:8080/"
        },
        "id": "7nNUdRAKyPJO",
        "outputId": "51d1079e-d432-4446-aaa4-5f0b609aca74"
      },
      "source": [
        "S2 = 2*C\n",
        "S2"
      ],
      "execution_count": 17,
      "outputs": [
        {
          "output_type": "execute_result",
          "data": {
            "text/plain": [
              "array([[ 8],\n",
              "       [ 6],\n",
              "       [-4]])"
            ]
          },
          "metadata": {},
          "execution_count": 17
        }
      ]
    },
    {
      "cell_type": "markdown",
      "metadata": {
        "id": "46FS6gCEXqED"
      },
      "source": [
        "###**MATPLOTLIB**###"
      ]
    },
    {
      "cell_type": "markdown",
      "metadata": {
        "id": "F9VN-PyVwuPT"
      },
      "source": [
        "MatPlotLib or MATLab Plotting library is Python's take on MATLabs plotting feature. MatPlotLib can be used vastly from graping values to visualizing several dimensions of data."
      ]
    },
    {
      "cell_type": "markdown",
      "metadata": {
        "id": "q4FDLZ1HwzRL"
      },
      "source": [
        "**Visualizing Data**"
      ]
    },
    {
      "cell_type": "markdown",
      "metadata": {
        "id": "mwdW79TEw2vF"
      },
      "source": [
        "It's not enough just solving these vectors so might need to visualize them. So we'll use MatPlotLib for that. We'll need to import it first.\n",
        "\n"
      ]
    },
    {
      "cell_type": "code",
      "metadata": {
        "id": "uxR6vPheXwfs"
      },
      "source": [
        "import matplotlib.pyplot as plt\n",
        "import matplotlib\n",
        "%matplotlib inline"
      ],
      "execution_count": 18,
      "outputs": []
    },
    {
      "cell_type": "code",
      "metadata": {
        "colab": {
          "base_uri": "https://localhost:8080/",
          "height": 265
        },
        "id": "Si7whunTYLZz",
        "outputId": "5acce903-deb3-488b-8a41-97ee47494e4c"
      },
      "source": [
        "A = np.array([1, -1])\n",
        "B = np.array([1, 5])\n",
        "plt.scatter(A[0], A[1], label='A', c='green')\n",
        "plt.scatter(B[0], B[1], label='B', c='magenta')\n",
        "plt.grid()\n",
        "plt.legend()\n",
        "plt.show()"
      ],
      "execution_count": 19,
      "outputs": [
        {
          "output_type": "display_data",
          "data": {
            "image/png": "[encoded data removed]",
            "text/plain": [
              "<Figure size 432x288 with 1 Axes>"
            ]
          },
          "metadata": {
            "needs_background": "light"
          }
        }
      ]
    },
    {
      "cell_type": "code",
      "metadata": {
        "colab": {
          "base_uri": "https://localhost:8080/",
          "height": 265
        },
        "id": "YXVJztLtaJ-4",
        "outputId": "7ce194bd-7905-4ac5-f963-e576751f5e64"
      },
      "source": [
        "plt.xlim(-5, 5)\n",
        "plt.ylim(-5, 5)\n",
        "plt.quiver(0, 0, A[0], A[1], angles='xy', scale_units='xy', scale=1, color='red')\n",
        "plt.quiver(A[0], A[1], B[0], B[1], angles='xy', scale_units='xy', scale=1, color='blue')\n",
        "R = A + B\n",
        "plt.quiver(0, 0, R[0], R[1], angles='xy', scale_units='xy', scale=1, color='magenta')\n",
        "Magnitude = np.sqrt(np.sum(R**2))\n",
        "\n",
        "plt.grid()\n",
        "plt.show()\n",
        "Magnitude\n",
        "Slope = R[1]/R[0]\n",
        "Slope\n",
        "Angles = np.arctan(Slope)"
      ],
      "execution_count": 52,
      "outputs": [
        {
          "output_type": "display_data",
          "data": {
            "image/png": "[encoded data removed]",
            "text/plain": [
              "<Figure size 432x288 with 1 Axes>"
            ]
          },
          "metadata": {
            "needs_background": "light"
          }
        }
      ]
    },
    {
      "cell_type": "markdown",
      "metadata": {
        "id": "2wplmHPqxBKk"
      },
      "source": [
        "Try plotting Three Vectors and show the Resultant Vector as a result. Use Head to Tail Method.\n",
        "\n"
      ]
    },
    {
      "cell_type": "code",
      "metadata": {
        "colab": {
          "base_uri": "https://localhost:8080/",
          "height": 286
        },
        "id": "d07bYTV2xD5X",
        "outputId": "04598b56-1b0e-462e-9303-18f5a3f5e30b"
      },
      "source": [
        "F = np.array([5, 4])\n",
        "M = np.array([-4, 3])\n",
        "T = np.array([-5, -2])\n",
        "\n",
        "#plt.scatter(F[0], F[1], label='F', c='red')\n",
        "#plt.scatter(S[0], S[1], label='S', c='green')\n",
        "#plt.scatter(T[0], T[1], label='T', c='blue')\n",
        "\n",
        "plt.xlim(-10, 10)\n",
        "plt.ylim(-10, 10)\n",
        "\n",
        "\n",
        "plt.quiver(0, 0, F[0], F[1], angles='xy', scale_units='xy', scale=1, color='red')\n",
        "plt.quiver(F[0], F[1], M[0], M[1], angles='xy', scale_units='xy', scale=1, color='green')\n",
        "N = F + M\n",
        "plt.quiver(N[0], N[1], T[0], T[1], angles='xy', scale_units='xy', scale=1, color='blue')\n",
        "P = N + T\n",
        "plt.quiver(0, 0, P[0], P[1], angles='xy', scale_units='xy', scale=1, color='yellow')\n",
        "Magnitude = np.sqrt(np.sum(P**2))\n",
        "\n",
        "plt.grid()\n",
        "plt.show()\n",
        "\n",
        "Magnitude\n"
      ],
      "execution_count": 53,
      "outputs": [
        {
          "output_type": "display_data",
          "data": {
            "image/png": "[encoded data removed]",
            "text/plain": [
              "<Figure size 432x288 with 1 Axes>"
            ]
          },
          "metadata": {
            "needs_background": "light"
          }
        },
        {
          "output_type": "execute_result",
          "data": {
            "text/plain": [
              "6.4031242374328485"
            ]
          },
          "metadata": {},
          "execution_count": 53
        }
      ]
    },
    {
      "cell_type": "markdown",
      "metadata": {
        "id": "zbQxS2Yf8iRD"
      },
      "source": [
        "#**CONCLUSION**#"
      ]
    },
    {
      "cell_type": "markdown",
      "metadata": {
        "id": "fI4jsHnb8vvT"
      },
      "source": [
        "With this laboratory exercise, i'd be able to familiarize myself with numpy and matplotlib libraries in python. Also, with numpy I've been able to perform vector operations and scalling. In using matplotlib i've able to plot the vectors for visualization."
      ]
    }
  ]
}