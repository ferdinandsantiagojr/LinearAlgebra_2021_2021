{
  "nbformat": 4,
  "nbformat_minor": 0,
  "metadata": {
    "colab": {
      "name": "Assignment4.ipynb",
      "provenance": [],
      "collapsed_sections": [],
      "authorship_tag": "ABX9TyMQPgLsCAREmrYX2thm6N7V",
      "include_colab_link": true
    },
    "kernelspec": {
      "name": "python3",
      "display_name": "Python 3"
    },
    "language_info": {
      "name": "python"
    }
  },
  "cells": [
    {
      "cell_type": "markdown",
      "metadata": {
        "id": "view-in-github",
        "colab_type": "text"
      },
      "source": [
        "<a href=\"https://colab.research.google.com/github/frsantiagojr/LinearAlgebra_2021_2021/blob/main/Assignment4.ipynb\" target=\"_parent\"><img src=\"https://colab.research.google.com/assets/colab-badge.svg\" alt=\"Open In Colab\"/></a>"
      ]
    },
    {
      "cell_type": "markdown",
      "metadata": {
        "id": "Jq1idgR2lXZ2"
      },
      "source": [
        "#**Linear Algebra for ECE**\n",
        "\n",
        "##**Laboratory 4: Matrices**\n",
        "\n",
        "Now that we already have knowledge of Python, we will try to look into greater dimension"
      ]
    },
    {
      "cell_type": "markdown",
      "metadata": {
        "id": "5-LHsAFFmYSK"
      },
      "source": [
        "###**Objectives**\n",
        "At the end of this activity, you will be able to:\n",
        "\n",
        "1.   Be familiar with matrices and their relation to linear equations.\n",
        "2.   Perform basic matrix operations.\n",
        "3.   Program and translate matrix equations and operations using Python.\n",
        "\n",
        "\n",
        "\n",
        "\n",
        "*italicized text*"
      ]
    },
    {
      "cell_type": "markdown",
      "metadata": {
        "id": "HM6ibxG6nYK9"
      },
      "source": [
        "#**Discussion**"
      ]
    },
    {
      "cell_type": "code",
      "metadata": {
        "id": "zDdDaPbs8n7j"
      },
      "source": [
        "import numpy as np\n",
        "import matplotlib.pyplot as plt\n",
        "import scipy.linalg as la\n",
        "%matplotlib inline"
      ],
      "execution_count": 1,
      "outputs": []
    },
    {
      "cell_type": "markdown",
      "metadata": {
        "id": "lJmRzLdqnfA4"
      },
      "source": [
        "###**Matrices**\n",
        "The notation and use of matrices is probably one of the fundamentals of modern computing. Matrices are also handy representations of complex equations or multiple inter-related equations from 2-dimensional equations to even hundreds and thousands of them.\n",
        "\n",
        "Let's say for example you have $A$ and $B$ as system of equation.\n",
        "\n",
        "$$ A = \\left\\{ \\begin{array}\\ x + y \\\\ 4x - 10y \\end{array} \\right. \\\\ B = \\left\\{ \\begin{array}\\ x+y+z \\\\ 3x -2y -z \\\\ -x + 4y +2z \\end{array} \\right. $$\n",
        "We could see that $A$ is a system of 2 equations with 2 parameters. While $B$ is a system of 3 equations with 3 parameters. We can represent them as matrices as:\n",
        "\n",
        "$$ A=\\begin{bmatrix} 1 & 1 \\\\ 4 & {-10}\\end{bmatrix} \\\\ B=\\begin{bmatrix} 1 & 1 & 1 \\\\ 3 & -2 & -1 \\\\ -1 & 4 & 2\\end{bmatrix} $$\n",
        "So assuming that you already discussed the fundamental representation of matrices, their types, and operations. We'll proceed in doing them in here in Python."
      ]
    },
    {
      "cell_type": "markdown",
      "metadata": {
        "id": "fGOIUkzr9WZY"
      },
      "source": [
        "$$\n",
        "A = \\left\\{\n",
        "    \\begin{array}\\\n",
        "        x + y \\\\ \n",
        "        4x - 10y\n",
        "    \\end{array}\n",
        "\\right. \\\\\n",
        "B = \\left\\{\n",
        "    \\begin{array}\\\n",
        "        x+y+z \\\\ \n",
        "        3x -2y -z \\\\\n",
        "        -x + 4y +2z\n",
        "    \\end{array}\n",
        "\\right. \n",
        "$$"
      ]
    },
    {
      "cell_type": "markdown",
      "metadata": {
        "id": "7SS9oIP9oRqw"
      },
      "source": [
        "###**Declaring Matrices**\n",
        "Just like our previous laboratory activity, we'll represent system of linear equations as a matrix. The entities or numbers in matrices are called the elements of a matrix. These elements are arranged and ordered in rows and columns which form the list/array-like structure of matrices. And just like arrays, these elements are indexed according to their position with respect to their rows and columns. This can be reprsented just like the equation below. Whereas $A$ is a matrix consisting of elements denoted by $a_{i,j}$. Denoted by $i$ is the number of rows in the matrix while $j$ stands for the number of columns.\n",
        "Do note that the $size$ of a matrix is $i\\times j$."
      ]
    },
    {
      "cell_type": "markdown",
      "metadata": {
        "id": "7Qt3R-OB_D5S"
      },
      "source": [
        "$$A=\\begin{bmatrix}\n",
        "a_{(0,0)}&a_{(0,1)}&\\dots&a_{(0,j-1)}\\\\\n",
        "a_{(1,0)}&a_{(1,1)}&\\dots&a_{(1,j-1)}\\\\\n",
        "\\vdots&\\vdots&\\ddots&\\vdots&\\\\\n",
        "a_{(i-1,0)}&a_{(i-1,1)}&\\dots&a_{(i-1,j-1)}\n",
        "\\end{bmatrix}\n",
        "$$"
      ]
    },
    {
      "cell_type": "markdown",
      "metadata": {
        "id": "bPJmMw7o_Ib6"
      },
      "source": [
        "We already gone over some of the types of matrices as vectors but we'll further discuss them in this laboratory activity. Since you already know how to describe vectors using **shape**, **dimensions** and **size** attributes, we'll use them to analyze these matrices."
      ]
    },
    {
      "cell_type": "code",
      "metadata": {
        "id": "z3SIrFLVADN4"
      },
      "source": [
        "''' Since we'll keep on discribing matrices. We will make a function '''\n",
        "def describe_mat(matrix):\n",
        "  print(f'Matrix:\\n{matrix}\\n\\nShape:\\t{matrix.shape}\\nRank:\\t{matrix.ndim}\\n')"
      ],
      "execution_count": null,
      "outputs": []
    },
    {
      "cell_type": "code",
      "metadata": {
        "colab": {
          "base_uri": "https://localhost:8080/"
        },
        "id": "7UtVqKA8AfQM",
        "outputId": "3bda41f2-eb2a-4293-f5f6-c0b41479de4a"
      },
      "source": [
        "## Declaring a 2 x 2 Matrix\n",
        "A = np.array([\n",
        "              [1, 2],\n",
        "              [3, 1]\n",
        "])\n",
        "describe_mat(A)"
      ],
      "execution_count": null,
      "outputs": [
        {
          "output_type": "stream",
          "name": "stdout",
          "text": [
            "Matrix:\n",
            "[[1 2]\n",
            " [3 1]]\n",
            "\n",
            "Shape:\t(2, 2)\n",
            "Rank:\t2\n",
            "\n"
          ]
        }
      ]
    },
    {
      "cell_type": "code",
      "metadata": {
        "colab": {
          "base_uri": "https://localhost:8080/"
        },
        "id": "dcthrwRJp_BW",
        "outputId": "3c72040c-ab4a-49db-ca4b-2a0764ebe74d"
      },
      "source": [
        "G = np.array([\n",
        "              [1, 1],\n",
        "              [2,2]\n",
        "])\n",
        "describe_mat(G)\n"
      ],
      "execution_count": null,
      "outputs": [
        {
          "output_type": "stream",
          "name": "stdout",
          "text": [
            "Matrix:\n",
            "[[1 1]\n",
            " [2 2]]\n",
            "\n",
            "Shape:\t(2, 2)\n",
            "Rank:\t2\n",
            "\n"
          ]
        }
      ]
    },
    {
      "cell_type": "code",
      "metadata": {
        "colab": {
          "base_uri": "https://localhost:8080/"
        },
        "id": "ez-XUkFcq4Zo",
        "outputId": "be45be0e-b199-4a72-d133-2a05ff1b5425"
      },
      "source": [
        "## Declaring a 3 x 2 matix\n",
        "B = np.array([\n",
        "              [8,2],\n",
        "              [5,4],\n",
        "              [1,1]\n",
        "])\n",
        "describe_mat(B)"
      ],
      "execution_count": null,
      "outputs": [
        {
          "output_type": "stream",
          "name": "stdout",
          "text": [
            "Matrix:\n",
            "[[8 2]\n",
            " [5 4]\n",
            " [1 1]]\n",
            "\n",
            "Shape:\t(3, 2)\n",
            "Rank:\t2\n",
            "\n"
          ]
        }
      ]
    },
    {
      "cell_type": "code",
      "metadata": {
        "colab": {
          "base_uri": "https://localhost:8080/"
        },
        "id": "j_c9Ov-ZrZEw",
        "outputId": "577b3786-9476-46df-9ccd-505538746fbd"
      },
      "source": [
        "H = np.array([1,2,3,4,5])\n",
        "describe_mat(H)"
      ],
      "execution_count": null,
      "outputs": [
        {
          "output_type": "stream",
          "name": "stdout",
          "text": [
            "Matrix:\n",
            "[1 2 3 4 5]\n",
            "\n",
            "Shape:\t(5,)\n",
            "Rank:\t1\n",
            "\n"
          ]
        }
      ]
    },
    {
      "cell_type": "markdown",
      "metadata": {
        "id": "aaHfD9gFrkLi"
      },
      "source": [
        "###**Categorizing Matrices**\n",
        "There are several ways of classifying matrices. Once could be according to their **shape** and another is according to their **element values**. We'll try to go through them.\n",
        "\n"
      ]
    },
    {
      "cell_type": "markdown",
      "metadata": {
        "id": "qe_TpDZrsa7D"
      },
      "source": [
        "####**According to shape**\n",
        "**Row and Column Matrices**\n",
        "\n",
        "\n"
      ]
    },
    {
      "cell_type": "markdown",
      "metadata": {
        "id": "RF4HqNaws039"
      },
      "source": [
        "Row and column matrices are common in vector and matrix computations. They can also represent row and column spaces of a bigger vector space. Row and column matrices are represented by a single column or single row. So with that being, the shape of row matrices would be $1 \\times j$ and column matrices would be $i \\times 1$."
      ]
    },
    {
      "cell_type": "code",
      "metadata": {
        "colab": {
          "base_uri": "https://localhost:8080/"
        },
        "id": "JHKvc9RGswaE",
        "outputId": "712dd06a-4a1e-4a55-89cf-4c26417183cf"
      },
      "source": [
        "## Declaring a Raw Matrix\n",
        "\n",
        "row_mat_1D = np.array([1,3,2]) ## This is a 1-D Matrix with a shape of (3,), it's not really considered as a raw matrix.\n",
        "row_mat_2D = np.array([[1,2,3]]) ## This is a 2-D Matrix with a shape of (1,3)\n",
        "describe_mat(row_mat_1D)\n",
        "describe_mat(row_mat_2D)"
      ],
      "execution_count": null,
      "outputs": [
        {
          "output_type": "stream",
          "name": "stdout",
          "text": [
            "Matrix:\n",
            "[1 3 2]\n",
            "\n",
            "Shape:\t(3,)\n",
            "Rank:\t1\n",
            "\n",
            "Matrix:\n",
            "[[1 2 3]]\n",
            "\n",
            "Shape:\t(1, 3)\n",
            "Rank:\t2\n",
            "\n"
          ]
        }
      ]
    },
    {
      "cell_type": "code",
      "metadata": {
        "colab": {
          "base_uri": "https://localhost:8080/"
        },
        "id": "FyRdOmCruMmZ",
        "outputId": "c1ef9821-eab9-49ed-d06f-4f6d13c62c6e"
      },
      "source": [
        "## Declaring a Column Matrix\n",
        "\n",
        "col_mat = np.array([[1],[2],[5]]) ## this is a 2-D Matrix with a shape of (3,1)\n",
        "describe_mat(col_mat)"
      ],
      "execution_count": null,
      "outputs": [
        {
          "output_type": "stream",
          "name": "stdout",
          "text": [
            "Matrix:\n",
            "[[1]\n",
            " [2]\n",
            " [5]]\n",
            "\n",
            "Shape:\t(3, 1)\n",
            "Rank:\t2\n",
            "\n"
          ]
        }
      ]
    },
    {
      "cell_type": "markdown",
      "metadata": {
        "id": "UeZAMpzruzbt"
      },
      "source": [
        "**Square Matrices**\n"
      ]
    },
    {
      "cell_type": "markdown",
      "metadata": {
        "id": "RuoOBvVzvLgq"
      },
      "source": [
        "Square matrices are matrices that have the same row and column sizes. We could say a matrix is square if $i = j$. We can tweak our matrix descriptor function to determine square matrices."
      ]
    },
    {
      "cell_type": "code",
      "metadata": {
        "id": "wwugmqJEvGFo"
      },
      "source": [
        "## edit the function describe_mat()\n",
        "\n",
        "def describe_mat(matrix):\n",
        "  is_square = True if matrix.shape[0] == matrix.shape[1] else False\n",
        "  print(f'Matrix:\\n{matrix}\\n\\nShape:\\t{matrix.shape}\\nRank:{matrix.ndim}\\nIs Square:{is_square}\\n')"
      ],
      "execution_count": null,
      "outputs": []
    },
    {
      "cell_type": "code",
      "metadata": {
        "colab": {
          "base_uri": "https://localhost:8080/"
        },
        "id": "kY6A7T7rwUxb",
        "outputId": "6c48c94a-9155-497b-8d34-1ac4a21d06bf"
      },
      "source": [
        "## Declaring square matrix\n",
        "\n",
        "square_mat = np.array([[1,2,5],\n",
        "                      [3,3,8],\n",
        "                      [6,1,2]\n",
        "                       ])\n",
        "\n",
        "## Declaring non-square matrix\n",
        "\n",
        "non_square_mat = np.array([[1,2,5],\n",
        "                           [3,3,8]\n",
        "                           ])\n",
        "describe_mat(square_mat)\n",
        "describe_mat(non_square_mat)"
      ],
      "execution_count": null,
      "outputs": [
        {
          "output_type": "stream",
          "name": "stdout",
          "text": [
            "Matrix:\n",
            "[[1 2 5]\n",
            " [3 3 8]\n",
            " [6 1 2]]\n",
            "\n",
            "Shape:\t(3, 3)\n",
            "Rank:2\n",
            "Is Square:True\n",
            "\n",
            "Matrix:\n",
            "[[1 2 5]\n",
            " [3 3 8]]\n",
            "\n",
            "Shape:\t(2, 3)\n",
            "Rank:2\n",
            "Is Square:False\n",
            "\n"
          ]
        }
      ]
    },
    {
      "cell_type": "markdown",
      "metadata": {
        "id": "luYptsl_yIHL"
      },
      "source": [
        "###**According to element values**"
      ]
    },
    {
      "cell_type": "markdown",
      "metadata": {
        "id": "-j4VKb6KyR2v"
      },
      "source": [
        "**Null Matrix**"
      ]
    },
    {
      "cell_type": "markdown",
      "metadata": {
        "id": "hdO2GUF1yWBB"
      },
      "source": [
        "A Null Matrix is a matrix that has no elements. It is always a subspace of any vector or matrix.\n",
        "\n"
      ]
    },
    {
      "cell_type": "code",
      "metadata": {
        "id": "jt7PKf3iyiTa"
      },
      "source": [
        "## edit the function describe_mat()\n",
        "\n",
        "def describe_mat(matrix):\n",
        "  if matrix.size > 0:\n",
        "    is_square = True if matrix.shape[0] == matrix.shape[1] else False\n",
        "    print(f'Matrix:\\n{matrix}\\n\\nShape:\\t{matrix.shape}\\nRank:{matrix.ndim}\\nIs Square:{is_square}\\n')\n",
        "  else:\n",
        "    print('Matrix is Null')"
      ],
      "execution_count": null,
      "outputs": []
    },
    {
      "cell_type": "code",
      "metadata": {
        "colab": {
          "base_uri": "https://localhost:8080/"
        },
        "id": "S6_nH1Tqy1Hh",
        "outputId": "e2ec4169-2a2a-4f17-8ceb-549795ee178a"
      },
      "source": [
        "## Declaring a null Matrix\n",
        "\n",
        "null_mat = np.array([])\n",
        "describe_mat(null_mat)"
      ],
      "execution_count": null,
      "outputs": [
        {
          "output_type": "stream",
          "name": "stdout",
          "text": [
            "Matrix is Null\n"
          ]
        }
      ]
    },
    {
      "cell_type": "markdown",
      "metadata": {
        "id": "qBUXY8QqzFfX"
      },
      "source": [
        "**Zero Matrix**"
      ]
    },
    {
      "cell_type": "markdown",
      "metadata": {
        "id": "IwR98ezVzMir"
      },
      "source": [
        "A zero matrix can be any rectangular matrix but with all elements having a value of 0.\n",
        "\n"
      ]
    },
    {
      "cell_type": "code",
      "metadata": {
        "colab": {
          "base_uri": "https://localhost:8080/"
        },
        "id": "-nbr-BpjKDfO",
        "outputId": "55f008d4-317e-4101-d8c5-7644c2eadf27"
      },
      "source": [
        "zero_mat_row = np.zeros((1,2))\n",
        "zero_mat_sqr = np.zeros((2,2))\n",
        "zero_mat_rct = np.zeros((3,2))\n",
        "\n",
        "print(f'Zero Row Matrix: \\n{zero_mat_row}')\n",
        "print(f'Zero Square Matrix: \\n{zero_mat_sqr}')\n",
        "print(f'Zero Rectangular Matrix: \\n{zero_mat_rct}')\n"
      ],
      "execution_count": null,
      "outputs": [
        {
          "output_type": "stream",
          "name": "stdout",
          "text": [
            "Zero Row Matrix: \n",
            "[[0. 0.]]\n",
            "Zero Square Matrix: \n",
            "[[0. 0.]\n",
            " [0. 0.]]\n",
            "Zero Rectangular Matrix: \n",
            "[[0. 0.]\n",
            " [0. 0.]\n",
            " [0. 0.]]\n"
          ]
        }
      ]
    },
    {
      "cell_type": "markdown",
      "metadata": {
        "id": "NWUssdru0dV7"
      },
      "source": [
        "**Ones Matrix**"
      ]
    },
    {
      "cell_type": "markdown",
      "metadata": {
        "id": "Nhr8_AzJ03Fn"
      },
      "source": [
        "A ones matrix, just like the zero matrix, can be any rectangular matrix but all of its elements are 1s instead of 0s.\n",
        "\n",
        "\n"
      ]
    },
    {
      "cell_type": "code",
      "metadata": {
        "colab": {
          "base_uri": "https://localhost:8080/"
        },
        "id": "y4eID4PBKm1Y",
        "outputId": "a014ff27-d06c-49a6-ce2b-978bc00a18f9"
      },
      "source": [
        "mat_ones = np.ones((4,4))\n",
        "print(mat_zero)"
      ],
      "execution_count": null,
      "outputs": [
        {
          "output_type": "stream",
          "name": "stdout",
          "text": [
            "[[1. 1. 1. 1.]\n",
            " [1. 1. 1. 1.]\n",
            " [1. 1. 1. 1.]\n",
            " [1. 1. 1. 1.]]\n"
          ]
        }
      ]
    },
    {
      "cell_type": "code",
      "metadata": {
        "colab": {
          "base_uri": "https://localhost:8080/"
        },
        "id": "0Mng7VrZ1QA_",
        "outputId": "3f3e9cc8-42be-4b38-dc39-8298b52a0c2c"
      },
      "source": [
        "ones_mat_row = np.ones((1,2))\n",
        "ones_mat_sqr = np.ones((2,2))\n",
        "ones_mat_rct = np.ones((3,2))\n",
        "\n",
        "print(f'Ones Row Matrix: \\n{ones_mat_row}')\n",
        "print(f'Ones Square Matrix: \\n{ones_mat_sqr}')\n",
        "print(f'Ones Rectangular Matrix: \\n{ones_mat_rct}')"
      ],
      "execution_count": null,
      "outputs": [
        {
          "output_type": "stream",
          "name": "stdout",
          "text": [
            "Ones Row Matrix: \n",
            "[[1. 1.]]\n",
            "Ones Square Matrix: \n",
            "[[1. 1.]\n",
            " [1. 1.]]\n",
            "Ones Rectangular Matrix: \n",
            "[[1. 1.]\n",
            " [1. 1.]\n",
            " [1. 1.]]\n"
          ]
        }
      ]
    },
    {
      "cell_type": "markdown",
      "metadata": {
        "id": "omoxdy7P1YIj"
      },
      "source": [
        "**Diagonal Matrix**"
      ]
    },
    {
      "cell_type": "markdown",
      "metadata": {
        "id": "2t-_AHRl1enf"
      },
      "source": [
        "A diagonal matrix is a square matrix that has values only at the diagonal of the matrix.\n",
        "\n"
      ]
    },
    {
      "cell_type": "code",
      "metadata": {
        "colab": {
          "base_uri": "https://localhost:8080/"
        },
        "id": "CssgI7TN1ic8",
        "outputId": "97b41df3-23be-4b73-93ae-9bce49e7a8fc"
      },
      "source": [
        "np.array([\n",
        "    [2,0,0],\n",
        "    [0,3,0],\n",
        "    [0,0,5]\n",
        "])\n",
        "# a[1,1], a[2,2], a[3,3], ... a[n-1,n-1]"
      ],
      "execution_count": null,
      "outputs": [
        {
          "output_type": "execute_result",
          "data": {
            "text/plain": [
              "array([[2, 0, 0],\n",
              "       [0, 3, 0],\n",
              "       [0, 0, 5]])"
            ]
          },
          "metadata": {},
          "execution_count": 26
        }
      ]
    },
    {
      "cell_type": "code",
      "metadata": {
        "colab": {
          "base_uri": "https://localhost:8080/"
        },
        "id": "vDVP2qCI1nnk",
        "outputId": "7797f85e-476c-42c1-d635-ca66563f176d"
      },
      "source": [
        "d = np.diag([2,3,5,7])\n",
        "np.diag(d).shape == d.shape[0] == d.shape[1]"
      ],
      "execution_count": null,
      "outputs": [
        {
          "output_type": "execute_result",
          "data": {
            "text/plain": [
              "False"
            ]
          },
          "metadata": {},
          "execution_count": 97
        }
      ]
    },
    {
      "cell_type": "markdown",
      "metadata": {
        "id": "wwsKYm3W2Jnd"
      },
      "source": [
        "**Identity Matrix**"
      ]
    },
    {
      "cell_type": "markdown",
      "metadata": {
        "id": "-uyvLp542RlJ"
      },
      "source": [
        "An identity matrix is a special diagonal matrix in which the values at the diagonal are ones.\n",
        "\n"
      ]
    },
    {
      "cell_type": "code",
      "metadata": {
        "colab": {
          "base_uri": "https://localhost:8080/"
        },
        "id": "148-0_f92Vb9",
        "outputId": "f33f8911-911d-4fad-b8c6-1ffd300e603d"
      },
      "source": [
        "np.eye(5)\n"
      ],
      "execution_count": null,
      "outputs": [
        {
          "output_type": "execute_result",
          "data": {
            "text/plain": [
              "array([[1., 0., 0., 0., 0.],\n",
              "       [0., 1., 0., 0., 0.],\n",
              "       [0., 0., 1., 0., 0.],\n",
              "       [0., 0., 0., 1., 0.],\n",
              "       [0., 0., 0., 0., 1.]])"
            ]
          },
          "metadata": {},
          "execution_count": 29
        }
      ]
    },
    {
      "cell_type": "code",
      "metadata": {
        "colab": {
          "base_uri": "https://localhost:8080/"
        },
        "id": "b10hVqkT2Z83",
        "outputId": "365d750c-068c-43b2-93ac-33803f51dec8"
      },
      "source": [
        "np.identity(5)\n"
      ],
      "execution_count": null,
      "outputs": [
        {
          "output_type": "execute_result",
          "data": {
            "text/plain": [
              "array([[1., 0., 0., 0., 0.],\n",
              "       [0., 1., 0., 0., 0.],\n",
              "       [0., 0., 1., 0., 0.],\n",
              "       [0., 0., 0., 1., 0.],\n",
              "       [0., 0., 0., 0., 1.]])"
            ]
          },
          "metadata": {},
          "execution_count": 30
        }
      ]
    },
    {
      "cell_type": "markdown",
      "metadata": {
        "id": "0g4H1-Tj2j4X"
      },
      "source": [
        "**Upper Triangular Matrix**"
      ]
    },
    {
      "cell_type": "markdown",
      "metadata": {
        "id": "_cFiSBHd2mSz"
      },
      "source": [
        "An upper triangular matrix is a matrix that has no values below the diagonal.\n",
        "\n"
      ]
    },
    {
      "cell_type": "code",
      "metadata": {
        "colab": {
          "base_uri": "https://localhost:8080/"
        },
        "id": "PS3fcWvr2pZ4",
        "outputId": "ef9dc9be-0326-4648-a4ad-24473a96d4da"
      },
      "source": [
        "np.array([\n",
        "    [1,2,3],\n",
        "    [0,3,1],\n",
        "    [0,0,5]\n",
        "])"
      ],
      "execution_count": null,
      "outputs": [
        {
          "output_type": "execute_result",
          "data": {
            "text/plain": [
              "array([[1, 2, 3],\n",
              "       [0, 3, 1],\n",
              "       [0, 0, 5]])"
            ]
          },
          "metadata": {},
          "execution_count": 31
        }
      ]
    },
    {
      "cell_type": "markdown",
      "metadata": {
        "id": "hsMoJwwV2508"
      },
      "source": [
        "**Lower Triangular Matrix**"
      ]
    },
    {
      "cell_type": "markdown",
      "metadata": {
        "id": "U1YFLZWM28zH"
      },
      "source": [
        "A lower triangular matrix is a matrix that has no values above the diagonal.\n",
        "\n"
      ]
    },
    {
      "cell_type": "code",
      "metadata": {
        "colab": {
          "base_uri": "https://localhost:8080/"
        },
        "id": "Z3ycBfq22_-z",
        "outputId": "87cb1e01-5bc8-4f62-b776-186c41865855"
      },
      "source": [
        "\n",
        "np.array([\n",
        "    [1,0,0],\n",
        "    [5,3,0],\n",
        "    [7,8,5]\n",
        "])"
      ],
      "execution_count": null,
      "outputs": [
        {
          "output_type": "execute_result",
          "data": {
            "text/plain": [
              "array([[1, 0, 0],\n",
              "       [5, 3, 0],\n",
              "       [7, 8, 5]])"
            ]
          },
          "metadata": {},
          "execution_count": 32
        }
      ]
    },
    {
      "cell_type": "markdown",
      "metadata": {
        "id": "-CadZQV73HFf"
      },
      "source": [
        "##**Practice**"
      ]
    },
    {
      "cell_type": "markdown",
      "metadata": {
        "id": "kStbgR4H3PvO"
      },
      "source": [
        "\n",
        "\n",
        "1.   Given the linear combination below, try to create a corresponding matrix representing it.\n",
        "$$ \\theta\\ = 5x + 3y -z $$\n",
        "\n",
        "\n",
        "\n",
        "\n",
        "\n"
      ]
    },
    {
      "cell_type": "code",
      "metadata": {
        "colab": {
          "base_uri": "https://localhost:8080/"
        },
        "id": "S3sRXZO2L9cL",
        "outputId": "cc6179c6-16b4-4e86-8d29-44d4e59d613f"
      },
      "source": [
        "C = np.array([5, 3, -1])\n",
        "print(C)"
      ],
      "execution_count": null,
      "outputs": [
        {
          "output_type": "stream",
          "name": "stdout",
          "text": [
            "[ 5  3 -1]\n"
          ]
        }
      ]
    },
    {
      "cell_type": "markdown",
      "metadata": {
        "id": "6PBTtsh_5FUZ"
      },
      "source": [
        "\n",
        "2.   Given the system of linear combinations below, try to encode it as a matrix. Also describe the matrix.\n",
        "$$ A = \\left\\{\\begin{array} 5x_1 + 2x_2 +x_3\\\\ 4x_2 - x_3\\\\ 10x_3 \\end{array}\\right. $$\n",
        "\n"
      ]
    },
    {
      "cell_type": "code",
      "metadata": {
        "colab": {
          "base_uri": "https://localhost:8080/"
        },
        "id": "_H_3G0llNS_1",
        "outputId": "b6396e48-3e02-4a71-f0e2-9a7667e6321c"
      },
      "source": [
        "A = np.array([\n",
        "              [1, 2, 3],\n",
        "             [0, 4, -1],\n",
        "             [0, 0, 10]\n",
        "             ])\n",
        "A"
      ],
      "execution_count": null,
      "outputs": [
        {
          "output_type": "execute_result",
          "data": {
            "text/plain": [
              "array([[ 1,  2,  3],\n",
              "       [ 0,  4, -1],\n",
              "       [ 0,  0, 10]])"
            ]
          },
          "metadata": {},
          "execution_count": 36
        }
      ]
    },
    {
      "cell_type": "markdown",
      "metadata": {
        "id": "4xOR2ULR5ijU"
      },
      "source": [
        "\n",
        "\n",
        "3.   Given the matrix below, express it as a linear combination in a markdown.\n",
        "\n",
        "\n"
      ]
    },
    {
      "cell_type": "code",
      "metadata": {
        "id": "gIMzy-xW6J9j"
      },
      "source": [
        "G = np.array([\n",
        "    [1,7,8],\n",
        "    [2,2,2],\n",
        "    [4,6,7]              \n",
        "])"
      ],
      "execution_count": null,
      "outputs": []
    },
    {
      "cell_type": "markdown",
      "metadata": {
        "id": "lAgFTGfd6e8b"
      },
      "source": [
        "**Answer**"
      ]
    },
    {
      "cell_type": "markdown",
      "metadata": {
        "id": "hqUqom9q6lRF"
      },
      "source": [
        "$$ G = \\left\\{\\begin{array} 1x_1 + 7x_2 + 8x_3\\\\ 2x_2 + 2x_2 + 2x_3\\\\ 4x_1 + 6x_2 + 7x_3 \\end{array}\\right. $$\n"
      ]
    },
    {
      "cell_type": "markdown",
      "metadata": {
        "id": "JrMDdQHH7Fwa"
      },
      "source": [
        "\n",
        "\n",
        "4.   Given the matrix below, display the output as a LaTeX makdown also express it as a system of linear combinations.\n",
        "\n",
        "\n"
      ]
    },
    {
      "cell_type": "code",
      "metadata": {
        "colab": {
          "base_uri": "https://localhost:8080/"
        },
        "id": "iJkGWxQw7TSz",
        "outputId": "550a15c0-6b18-4286-9e87-c03859580a0d"
      },
      "source": [
        "H = np.tril(G)\n",
        "H"
      ],
      "execution_count": null,
      "outputs": [
        {
          "output_type": "execute_result",
          "data": {
            "text/plain": [
              "array([[1, 0, 0],\n",
              "       [2, 2, 0],\n",
              "       [4, 6, 7]])"
            ]
          },
          "metadata": {},
          "execution_count": 38
        }
      ]
    },
    {
      "cell_type": "markdown",
      "metadata": {
        "id": "TDXdxKpE86vl"
      },
      "source": [
        "$$\n",
        "H =\\begin{vmatrix}\n",
        "1 & 0 & 0\\\\\n",
        "2 & 2 & 0\\\\\n",
        "4 & 6 & 7\n",
        "\\end{vmatrix}\n",
        "$$"
      ]
    },
    {
      "cell_type": "markdown",
      "metadata": {
        "id": "CQ4FE-di9zPN"
      },
      "source": [
        "$$ H = \\left\\{\\begin{array} 1x_1\\\\ 2x_2 + 2x_2\\\\ 4x_1 + 6x_2 + 7x_3 \\end{array}\\right. $$"
      ]
    },
    {
      "cell_type": "markdown",
      "metadata": {
        "id": "6t_gVUrK-ddI"
      },
      "source": [
        "##**Matrix Algebra**"
      ]
    },
    {
      "cell_type": "markdown",
      "metadata": {
        "id": "ABmvcj9g-lPR"
      },
      "source": [
        "###**Addition**"
      ]
    },
    {
      "cell_type": "code",
      "metadata": {
        "colab": {
          "base_uri": "https://localhost:8080/"
        },
        "id": "sEb7wFJY-p6C",
        "outputId": "0a9d9eca-73f1-4980-f6b7-4fa39a318fcb"
      },
      "source": [
        "A = np.array([\n",
        "              [1,2],\n",
        "              [2,3],\n",
        "              [4,1]\n",
        "])\n",
        "B = np.array([\n",
        "              [2,2],\n",
        "              [0,0],\n",
        "              [1,1]\n",
        "])\n",
        "A+B"
      ],
      "execution_count": null,
      "outputs": [
        {
          "output_type": "execute_result",
          "data": {
            "text/plain": [
              "array([[3, 4],\n",
              "       [2, 3],\n",
              "       [5, 2]])"
            ]
          },
          "metadata": {},
          "execution_count": 40
        }
      ]
    },
    {
      "cell_type": "code",
      "metadata": {
        "colab": {
          "base_uri": "https://localhost:8080/"
        },
        "id": "hfWLLhpx_KWB",
        "outputId": "ccf54630-9c47-41d0-e6d1-e7681d68fd90"
      },
      "source": [
        "2+A ##Broadcasting\n",
        "# 2*np.ones(A.shape)+A"
      ],
      "execution_count": null,
      "outputs": [
        {
          "output_type": "execute_result",
          "data": {
            "text/plain": [
              "array([[3, 4],\n",
              "       [4, 5],\n",
              "       [6, 3]])"
            ]
          },
          "metadata": {},
          "execution_count": 41
        }
      ]
    },
    {
      "cell_type": "markdown",
      "metadata": {
        "id": "tQ8E9knB_dWE"
      },
      "source": [
        "###**Subtraction**"
      ]
    },
    {
      "cell_type": "code",
      "metadata": {
        "colab": {
          "base_uri": "https://localhost:8080/"
        },
        "id": "oKyg4ATU_i6z",
        "outputId": "f6bdc845-6836-4fbc-aed7-8cf46279965f"
      },
      "source": [
        "A-B"
      ],
      "execution_count": null,
      "outputs": [
        {
          "output_type": "execute_result",
          "data": {
            "text/plain": [
              "array([[-1,  0],\n",
              "       [ 2,  3],\n",
              "       [ 3,  0]])"
            ]
          },
          "metadata": {},
          "execution_count": 42
        }
      ]
    },
    {
      "cell_type": "code",
      "metadata": {
        "colab": {
          "base_uri": "https://localhost:8080/"
        },
        "id": "l8HBbYcy_mRH",
        "outputId": "96305238-d46c-4951-b541-3866069e4b14"
      },
      "source": [
        "3-B == 3*np.ones(B.shape)-B"
      ],
      "execution_count": null,
      "outputs": [
        {
          "output_type": "execute_result",
          "data": {
            "text/plain": [
              "array([[ True,  True],\n",
              "       [ True,  True],\n",
              "       [ True,  True]])"
            ]
          },
          "metadata": {},
          "execution_count": 43
        }
      ]
    },
    {
      "cell_type": "markdown",
      "metadata": {
        "id": "7-WwTeAF_939"
      },
      "source": [
        "###**Element-wise Multiplication**"
      ]
    },
    {
      "cell_type": "code",
      "metadata": {
        "colab": {
          "base_uri": "https://localhost:8080/"
        },
        "id": "FN05vXs7AC4r",
        "outputId": "0deac19d-615c-4cf8-af2d-c5bce5ff1603"
      },
      "source": [
        "A*B\n",
        "np.multiply(A,B)"
      ],
      "execution_count": null,
      "outputs": [
        {
          "output_type": "execute_result",
          "data": {
            "text/plain": [
              "array([[2, 4],\n",
              "       [0, 0],\n",
              "       [4, 1]])"
            ]
          },
          "metadata": {},
          "execution_count": 44
        }
      ]
    },
    {
      "cell_type": "code",
      "metadata": {
        "colab": {
          "base_uri": "https://localhost:8080/"
        },
        "id": "ipi-DoKAAJyz",
        "outputId": "b9fee5c1-c516-4bc6-8fa2-4b7b18a375ac"
      },
      "source": [
        "2*A"
      ],
      "execution_count": null,
      "outputs": [
        {
          "output_type": "execute_result",
          "data": {
            "text/plain": [
              "array([[2, 4],\n",
              "       [4, 6],\n",
              "       [8, 2]])"
            ]
          },
          "metadata": {},
          "execution_count": 45
        }
      ]
    },
    {
      "cell_type": "code",
      "metadata": {
        "colab": {
          "base_uri": "https://localhost:8080/",
          "height": 180
        },
        "id": "XUBo2bD1APeI",
        "outputId": "552f700d-1d44-4a04-cd91-2b03ca257f27"
      },
      "source": [
        "A@B"
      ],
      "execution_count": null,
      "outputs": [
        {
          "output_type": "error",
          "ename": "ValueError",
          "evalue": "ignored",
          "traceback": [
            "\u001b[0;31m---------------------------------------------------------------------------\u001b[0m",
            "\u001b[0;31mValueError\u001b[0m                                Traceback (most recent call last)",
            "\u001b[0;32m<ipython-input-46-5016aafd2858>\u001b[0m in \u001b[0;36m<module>\u001b[0;34m()\u001b[0m\n\u001b[0;32m----> 1\u001b[0;31m \u001b[0mA\u001b[0m\u001b[0;34m@\u001b[0m\u001b[0mB\u001b[0m\u001b[0;34m\u001b[0m\u001b[0;34m\u001b[0m\u001b[0m\n\u001b[0m",
            "\u001b[0;31mValueError\u001b[0m: matmul: Input operand 1 has a mismatch in its core dimension 0, with gufunc signature (n?,k),(k,m?)->(n?,m?) (size 3 is different from 2)"
          ]
        }
      ]
    },
    {
      "cell_type": "code",
      "metadata": {
        "colab": {
          "base_uri": "https://localhost:8080/"
        },
        "id": "xgdr8UnZATfV",
        "outputId": "e6995566-fed5-4e37-8a68-d7b3c0f89d7d"
      },
      "source": [
        "alpha=10**-10\n",
        "A/(alpha+B)"
      ],
      "execution_count": null,
      "outputs": [
        {
          "output_type": "execute_result",
          "data": {
            "text/plain": [
              "array([[5.e-01, 1.e+00],\n",
              "       [2.e+10, 3.e+10],\n",
              "       [4.e+00, 1.e+00]])"
            ]
          },
          "metadata": {},
          "execution_count": 47
        }
      ]
    },
    {
      "cell_type": "code",
      "metadata": {
        "colab": {
          "base_uri": "https://localhost:8080/"
        },
        "id": "a3LXgZ36Aawb",
        "outputId": "cbfa37d9-6114-4aee-a55e-ff3e2eb7fd88"
      },
      "source": [
        "np.add(A,B)"
      ],
      "execution_count": null,
      "outputs": [
        {
          "output_type": "execute_result",
          "data": {
            "text/plain": [
              "array([[3, 4],\n",
              "       [2, 3],\n",
              "       [5, 2]])"
            ]
          },
          "metadata": {},
          "execution_count": 48
        }
      ]
    },
    {
      "cell_type": "markdown",
      "metadata": {
        "id": "1clZ38IOAmM_"
      },
      "source": [
        "##**Activity**"
      ]
    },
    {
      "cell_type": "markdown",
      "metadata": {
        "id": "OR2XeEhkAryo"
      },
      "source": [
        "###**Task 1**"
      ]
    },
    {
      "cell_type": "markdown",
      "metadata": {
        "id": "ZpfRQQECA1cu"
      },
      "source": [
        "Create a function named mat_desc() that througouhly describes a matrix, it should:\n",
        "\n",
        "\n",
        "\n",
        "1.   Displays the shape, size, and rank of the matrix.\n",
        "2.   Displays whether the matrix is square or non-square.\n",
        "3.   Displays whether the matrix is an empty matrix.\n",
        "4.   Displays if the matrix is an identity, ones, or zeros matrix\n",
        "\n",
        "Use 5 sample matrices in which their shapes are not lower than $(3,3)$. In your methodology, create a flowchart discuss the functions and methods you have done. Present your results in the results section showing the description of each matrix you have declared.\n",
        "\n",
        "\n",
        "\n",
        "\n"
      ]
    },
    {
      "cell_type": "code",
      "metadata": {
        "id": "9Ky_4WbHBVRj"
      },
      "source": [
        "## Function area\n",
        "def desc_mat(matrix):\n",
        "  if matrix.size > 0:\n",
        "    is_square = True if matrix.shape[0] == matrix.shape[1] else False\n",
        "    is_null = True if matrix.size == 0 else False\n",
        "    is_identity = True if matrix.diagonal(0).all() == 1 else False\n",
        "    is_ones = True if matrix.all() == 1 else False\n",
        "    is_zero = True if matrix.nonzero()[0].size == 0 else False\n",
        "    print(f'\\nMatrix:\\n{matrix}\\n\\nShape:\\t{matrix.shape}\\nRank:{matrix.ndim}\\\n",
        "    \\nIs Square:{is_square}\\nIs_Null:{is_null}\\nIs_Ones:{is_ones}\\nIs_Zero:{is_zero}')\n",
        "  else:\n",
        "    print('\\nMatrix is Null')"
      ],
      "execution_count": 44,
      "outputs": []
    },
    {
      "cell_type": "code",
      "metadata": {
        "id": "ENiRhc7qB4dN"
      },
      "source": [
        "## Matrix Declarations\n",
        "F = np.array([\n",
        "              [9, 9, 8],\n",
        "              [0, 0, 4],\n",
        "              [4, 2, 3]\n",
        "              ])\n",
        "R = np.array([[2, 1, 3, 8],\n",
        "              [4, 8, 9, 1],\n",
        "              [5, 6, 7, 8]\n",
        "              ])\n",
        "S = np.array([])\n",
        "J = np.eye(4)\n",
        "X = np.ones((4,5))\n",
        "Z = np.zeros((5,5))"
      ],
      "execution_count": 46,
      "outputs": []
    },
    {
      "cell_type": "code",
      "metadata": {
        "colab": {
          "base_uri": "https://localhost:8080/"
        },
        "id": "0dEscC-DFk41",
        "outputId": "03cdea85-9bc1-46c4-8df7-5927981aa551"
      },
      "source": [
        "## Test Area\n",
        "\n",
        "desc_mat(F)\n",
        "desc_mat(R)\n",
        "desc_mat(S)\n",
        "desc_mat(J)\n",
        "desc_mat(X)\n",
        "desc_mat(Z)"
      ],
      "execution_count": 47,
      "outputs": [
        {
          "output_type": "stream",
          "name": "stdout",
          "text": [
            "\n",
            "Matrix:\n",
            "[[9 9 8]\n",
            " [0 0 4]\n",
            " [4 2 3]]\n",
            "\n",
            "Shape:\t(3, 3)\n",
            "Rank:2    \n",
            "Is Square:True\n",
            "Is_Null:False\n",
            "Is_Ones:False\n",
            "Is_Zero:False\n",
            "\n",
            "Matrix:\n",
            "[[2 1 3 8]\n",
            " [4 8 9 1]\n",
            " [5 6 7 8]]\n",
            "\n",
            "Shape:\t(3, 4)\n",
            "Rank:2    \n",
            "Is Square:False\n",
            "Is_Null:False\n",
            "Is_Ones:True\n",
            "Is_Zero:False\n",
            "\n",
            "Matrix is Null\n",
            "\n",
            "Matrix:\n",
            "[[1. 0. 0. 0.]\n",
            " [0. 1. 0. 0.]\n",
            " [0. 0. 1. 0.]\n",
            " [0. 0. 0. 1.]]\n",
            "\n",
            "Shape:\t(4, 4)\n",
            "Rank:2    \n",
            "Is Square:True\n",
            "Is_Null:False\n",
            "Is_Ones:False\n",
            "Is_Zero:False\n",
            "\n",
            "Matrix:\n",
            "[[1. 1. 1. 1. 1.]\n",
            " [1. 1. 1. 1. 1.]\n",
            " [1. 1. 1. 1. 1.]\n",
            " [1. 1. 1. 1. 1.]]\n",
            "\n",
            "Shape:\t(4, 5)\n",
            "Rank:2    \n",
            "Is Square:False\n",
            "Is_Null:False\n",
            "Is_Ones:True\n",
            "Is_Zero:False\n",
            "\n",
            "Matrix:\n",
            "[[0. 0. 0. 0. 0.]\n",
            " [0. 0. 0. 0. 0.]\n",
            " [0. 0. 0. 0. 0.]\n",
            " [0. 0. 0. 0. 0.]\n",
            " [0. 0. 0. 0. 0.]]\n",
            "\n",
            "Shape:\t(5, 5)\n",
            "Rank:2    \n",
            "Is Square:True\n",
            "Is_Null:False\n",
            "Is_Ones:False\n",
            "Is_Zero:True\n"
          ]
        }
      ]
    },
    {
      "cell_type": "markdown",
      "metadata": {
        "id": "RqYlYV88EtCa"
      },
      "source": [
        "###**Flowchart**"
      ]
    },
    {
      "cell_type": "markdown",
      "metadata": {
        "id": "tFU35hQ7N5uf"
      },
      "source": [
        "![desc_mat_program.flow.drawio.png](data:image/png;base64,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)"
      ]
    },
    {
      "cell_type": "markdown",
      "metadata": {
        "id": "HSukcHHEqxbT"
      },
      "source": [
        "###**Task 2**"
      ]
    },
    {
      "cell_type": "markdown",
      "metadata": {
        "id": "h0hjoZgnq4Bi"
      },
      "source": [
        "Create a function named mat_operations() that takes in two matrices a input parameters it should:\n",
        "\n",
        "\n",
        "1.   Determines if the matrices are viable for operation and returns your own error message if they are not viable.\n",
        "2.   Returns the sum of the matrices.\n",
        "3.   Returns the differen of the matrices.\n",
        "4.   Returns the element-wise multiplication of the matrices.\n",
        "5.   Returns the element-wise division of the matrices.\n",
        "\n",
        "Use 5 sample matrices in which their shapes are not lower than $(3,3)$. In your methodology, create a flowchart discuss the functions and methods you have done. Present your results in the results section showing the description of each matrix you have declared.\n",
        "\n",
        "\n",
        "\n",
        "\n",
        "\n",
        "\n"
      ]
    },
    {
      "cell_type": "code",
      "metadata": {
        "id": "9cAi7fbprjew"
      },
      "source": [
        "## Function Area\n",
        "'''\n",
        "This function is use to compute matrix operation\n",
        "Parameters: op - operation to be used. The operaion should only be the following strings:\n",
        "                'Add' - to add matrices\n",
        "                'Subtract' - to Subtract Matrices\n",
        "                'Multiply' - Element-Wise Multiplication of Matrices\n",
        "                'Divide'  - Element-Wise Division of Matrices\n",
        "                 Others Strings may not be recognized by the function as operation \n",
        "            matA, matB - Declared Matrixes\n",
        "\n",
        "'''\n",
        "def mat_operation(op, matA, matB):\n",
        "  if matA.size > 0 or matB.size > 0:\n",
        "    if matA.shape == matB.shape:\n",
        "      if op == 'Add':\n",
        "        s = matA + matB\n",
        "        print(f'\\nThe sum of \\n{matA} \\n\\n+\\n\\n {matB} \\n\\n is equal to:\\n\\n {s}')\n",
        "      elif op == 'Subtract':\n",
        "        d = matA - matB\n",
        "        print(f'\\nThe difference of \\n{matA} \\n\\n-\\n\\n {matB} \\n\\n is equal to:\\n\\n {d}')\n",
        "      elif op == 'Multiply':\n",
        "        p = matA * matB\n",
        "        print(f'\\nThe Product of \\n{matA} \\n\\nx\\n\\n {matB} \\n\\n is equal to:\\n\\n {p}')\n",
        "      elif op == 'Divide':\n",
        "        dv = matA / matB\n",
        "        print(f'\\nThe Product of \\n{matA} \\n\\n/\\n\\n {matB} \\n\\n is equal to:\\n\\n {dv}')\n",
        "      else:\n",
        "        print(f'Operation Not Found!')\n",
        "    else:\n",
        "      print(f'\\nCannot continue operation!Please make sure that the Matrices have equal dimension.')\n",
        "  else:\n",
        "    print(f'One or Both of the Matrix is NULL!')\n",
        "\n"
      ],
      "execution_count": 61,
      "outputs": []
    },
    {
      "cell_type": "code",
      "metadata": {
        "id": "nHnSOi1YrocC"
      },
      "source": [
        "## Matrix Declaration\n",
        "A = np.array([[2,3,4],\n",
        "              [3,4,5],\n",
        "              [9,8,7]\n",
        "              ])\n",
        "B = np.array([[1,2,1],\n",
        "              [4,1,8],\n",
        "              [8,2,3]])\n",
        "C = np.array([[1,2,3,4],\n",
        "              [5,6,4,8],\n",
        "              [9,5,2,1]])"
      ],
      "execution_count": 26,
      "outputs": []
    },
    {
      "cell_type": "code",
      "metadata": {
        "colab": {
          "base_uri": "https://localhost:8080/"
        },
        "id": "wrqZiH3-runb",
        "outputId": "dbe81b8a-f647-4e2e-d2eb-655d6f8e20aa"
      },
      "source": [
        "# Test Area\n",
        "mat_operation('Ad', A, B)\n",
        "mat_operation('Add', A, B)\n",
        "mat_operation('Subtract', B, A)\n",
        "mat_operation('Multiply', A, B)\n",
        "mat_operation('Divide', B, A)\n",
        "mat_operation('Multiply', A, C)\n"
      ],
      "execution_count": 62,
      "outputs": [
        {
          "output_type": "stream",
          "name": "stdout",
          "text": [
            "Operation Not Found!\n",
            "\n",
            "The sum of \n",
            "[[2 3 4]\n",
            " [3 4 5]\n",
            " [9 8 7]] \n",
            "\n",
            "+\n",
            "\n",
            " [[1 2 1]\n",
            " [4 1 8]\n",
            " [8 2 3]] \n",
            "\n",
            " is equal to:\n",
            "\n",
            " [[ 3  5  5]\n",
            " [ 7  5 13]\n",
            " [17 10 10]]\n",
            "\n",
            "The difference of \n",
            "[[1 2 1]\n",
            " [4 1 8]\n",
            " [8 2 3]] \n",
            "\n",
            "-\n",
            "\n",
            " [[2 3 4]\n",
            " [3 4 5]\n",
            " [9 8 7]] \n",
            "\n",
            " is equal to:\n",
            "\n",
            " [[-1 -1 -3]\n",
            " [ 1 -3  3]\n",
            " [-1 -6 -4]]\n",
            "\n",
            "The Product of \n",
            "[[2 3 4]\n",
            " [3 4 5]\n",
            " [9 8 7]] \n",
            "\n",
            "x\n",
            "\n",
            " [[1 2 1]\n",
            " [4 1 8]\n",
            " [8 2 3]] \n",
            "\n",
            " is equal to:\n",
            "\n",
            " [[ 2  6  4]\n",
            " [12  4 40]\n",
            " [72 16 21]]\n",
            "\n",
            "The Product of \n",
            "[[1 2 1]\n",
            " [4 1 8]\n",
            " [8 2 3]] \n",
            "\n",
            "/\n",
            "\n",
            " [[2 3 4]\n",
            " [3 4 5]\n",
            " [9 8 7]] \n",
            "\n",
            " is equal to:\n",
            "\n",
            " [[0.5        0.66666667 0.25      ]\n",
            " [1.33333333 0.25       1.6       ]\n",
            " [0.88888889 0.25       0.42857143]]\n",
            "\n",
            "Cannot continue operation!Please make sure that the Matrices have equal dimension.\n"
          ]
        }
      ]
    },
    {
      "cell_type": "markdown",
      "metadata": {
        "id": "x3irKwX3N9pK"
      },
      "source": [
        "###**Flowchart**"
      ]
    },
    {
      "cell_type": "markdown",
      "metadata": {
        "id": "k8Mn3OGpOCeq"
      },
      "source": [
        "![Mat_Operation.drawio.png](data:image/png;base64,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)"
      ]
    },
    {
      "cell_type": "markdown",
      "metadata": {
        "id": "MdvyFt4r8zHW"
      },
      "source": [
        "##**Conclusion**"
      ]
    },
    {
      "cell_type": "markdown",
      "metadata": {
        "id": "SzwW1RaD83_r"
      },
      "source": [
        "I conclude that the numpy module is very powerful to to determine the matrix and can easily solve Matrix operation. "
      ]
    }
  ]
}