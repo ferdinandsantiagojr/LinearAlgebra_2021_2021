{
  "nbformat": 4,
  "nbformat_minor": 0,
  "metadata": {
    "colab": {
      "name": "Assignment2.ipynb",
      "provenance": [],
      "collapsed_sections": [],
      "authorship_tag": "ABX9TyO8Z5CUKFyoL9eiP3JVNLdS",
      "include_colab_link": true
    },
    "kernelspec": {
      "name": "python3",
      "display_name": "Python 3"
    },
    "language_info": {
      "name": "python"
    }
  },
  "cells": [
    {
      "cell_type": "markdown",
      "metadata": {
        "id": "view-in-github",
        "colab_type": "text"
      },
      "source": [
        "<a href=\"https://colab.research.google.com/github/frsantiagojr/LinearAlgebra_2021_2021/blob/main/Assignment2.ipynb\" target=\"_parent\"><img src=\"https://colab.research.google.com/assets/colab-badge.svg\" alt=\"Open In Colab\"/></a>"
      ]
    },
    {
      "cell_type": "markdown",
      "metadata": {
        "id": "XZB7iBBA1kFu"
      },
      "source": [
        "#Welcome to python Fundamentals\n",
        "\n",
        "In this module we are going to establish our skills in Python Programming.\n",
        "\n",
        "**Python** is an easy to learn, powerful programming language. It has efficient high-level data structures and a simple but effective approach to object-oriented programming. Python’s elegant syntax and dynamic typing, together with its interpreted nature, make it an ideal language for scripting and rapid application development in many areas on most platforms.[1]\n",
        "\n",
        "Python is a high-level, interpreted, interactive and object-oriented scripting language. Python is designed to be highly readable. It uses English keywords frequently where as other languages use punctuation, and it has fewer syntactical constructions than other languages.[2]\n",
        "\n",
        "In this notebook we are going to cover:\n",
        "\n",
        "\n",
        "\n",
        "*   Variables and Data Types\n",
        "*   Operations\n",
        "*   Input and Output Operations\n",
        "*   Logic Control\n",
        "*   Iterables\n",
        "*   Functions\n",
        "\n",
        "# Variables and Data Types\n",
        "\n",
        "\n",
        "\n",
        "\n",
        "\n"
      ]
    },
    {
      "cell_type": "markdown",
      "metadata": {
        "id": "4Td3VUzGiGaB"
      },
      "source": [
        "Python variables do not need explicit declaration to reserve memory space. The declaration happens automatically when you assign a value to a variable. The equal sign (=) is used to assign values to variables.\n",
        "\n",
        "The operand to the left of the = operator is the name of the variable and the operand to the right of the = operator is the value stored in the variable. For example −"
      ]
    },
    {
      "cell_type": "code",
      "metadata": {
        "colab": {
          "base_uri": "https://localhost:8080/"
        },
        "id": "tqTlJUPi1Ivz",
        "outputId": "2931501a-9625-42e0-ad1c-49772135547e"
      },
      "source": [
        "x=1\n",
        "a, b = 3, -2\n",
        "b"
      ],
      "execution_count": null,
      "outputs": [
        {
          "output_type": "execute_result",
          "data": {
            "text/plain": [
              "-2"
            ]
          },
          "metadata": {},
          "execution_count": 116
        }
      ]
    },
    {
      "cell_type": "markdown",
      "metadata": {
        "id": "mB377ofcihqX"
      },
      "source": [
        "### Data Types"
      ]
    },
    {
      "cell_type": "markdown",
      "metadata": {
        "id": "m2aJYFp0inf7"
      },
      "source": [
        "Python has various standard data types that are used to define the operation. \n",
        "\n",
        "*   Numbers\n",
        "*   String\n",
        "*   List\n",
        "*   Tuple\n",
        "*   Dictionary\n",
        "\n",
        "On this module we will only cover Numbers(Numerical Types) and Strings.\n",
        "\n",
        "\n",
        "\n",
        "\n",
        "\n",
        "\n"
      ]
    },
    {
      "cell_type": "code",
      "metadata": {
        "colab": {
          "base_uri": "https://localhost:8080/"
        },
        "id": "AyEqj6EhLJbA",
        "outputId": "3b61fb9e-4d0e-44d4-f19b-8ea38e9a2b3a"
      },
      "source": [
        "type(x)"
      ],
      "execution_count": null,
      "outputs": [
        {
          "output_type": "execute_result",
          "data": {
            "text/plain": [
              "int"
            ]
          },
          "metadata": {},
          "execution_count": 117
        }
      ]
    },
    {
      "cell_type": "code",
      "metadata": {
        "colab": {
          "base_uri": "https://localhost:8080/"
        },
        "id": "c0mE9N0uLO2k",
        "outputId": "47ffc9ab-a4d5-4a07-ad09-dc31b6fe6e88"
      },
      "source": [
        "y = 3.0\n",
        "type(y)"
      ],
      "execution_count": null,
      "outputs": [
        {
          "output_type": "execute_result",
          "data": {
            "text/plain": [
              "float"
            ]
          },
          "metadata": {},
          "execution_count": 118
        }
      ]
    },
    {
      "cell_type": "code",
      "metadata": {
        "colab": {
          "base_uri": "https://localhost:8080/"
        },
        "id": "rTISKuM4LoTJ",
        "outputId": "b0615ca4-925c-485c-ab7d-9ed90e5cb87c"
      },
      "source": [
        "x = float(x)\n",
        "type(x)\n",
        "0"
      ],
      "execution_count": null,
      "outputs": [
        {
          "output_type": "execute_result",
          "data": {
            "text/plain": [
              "0"
            ]
          },
          "metadata": {},
          "execution_count": 119
        }
      ]
    },
    {
      "cell_type": "code",
      "metadata": {
        "colab": {
          "base_uri": "https://localhost:8080/"
        },
        "id": "ckKA-SvdL2wX",
        "outputId": "39a5315c-fb65-47b1-b471-e1643f6a276f"
      },
      "source": [
        "s, t, u = \"1\", '3', 'three'\n",
        "type(t)"
      ],
      "execution_count": null,
      "outputs": [
        {
          "output_type": "execute_result",
          "data": {
            "text/plain": [
              "str"
            ]
          },
          "metadata": {},
          "execution_count": 120
        }
      ]
    },
    {
      "cell_type": "markdown",
      "metadata": {
        "id": "y3kyrEUL4qfp"
      },
      "source": [
        "#Operations\n",
        "\n",
        "Python supports the following types of oerators:\n",
        "\n",
        "*   Arithmetic Operators\n",
        "*   Comparison (Relational) Operators\n",
        "*   Assignment Operators\n",
        "*   Logical Operators\n",
        "*   Bitwise Operators\n",
        "*   Membership Operators\n",
        "*   Identity Operators\n",
        "\n",
        "\n",
        "\n",
        "\n",
        "###Arithmetic Operators\n",
        "\n",
        "Arithmetic Operators are Addition, Subtraction, Multuplication, Division, Modulus, Exponent and Floor Division."
      ]
    },
    {
      "cell_type": "code",
      "metadata": {
        "id": "dfR8_Ptx48KO"
      },
      "source": [
        "w, x, y, z = 4.0, -3.0, 2, -32"
      ],
      "execution_count": null,
      "outputs": []
    },
    {
      "cell_type": "code",
      "metadata": {
        "colab": {
          "base_uri": "https://localhost:8080/"
        },
        "id": "GsHhrYPT5NLi",
        "outputId": "12e0adcc-6ffb-4ce8-bc67-ce4088585636"
      },
      "source": [
        "###Addition\n",
        "S = w + x\n",
        "S"
      ],
      "execution_count": null,
      "outputs": [
        {
          "output_type": "execute_result",
          "data": {
            "text/plain": [
              "1.0"
            ]
          },
          "metadata": {},
          "execution_count": 6
        }
      ]
    },
    {
      "cell_type": "code",
      "metadata": {
        "colab": {
          "base_uri": "https://localhost:8080/"
        },
        "id": "BsJ19CNN5gUS",
        "outputId": "0c6ebd05-72c8-472d-a99f-dd6913c60f52"
      },
      "source": [
        "### Subtraction\n",
        "D = y - z\n"
      ],
      "execution_count": null,
      "outputs": [
        {
          "output_type": "execute_result",
          "data": {
            "text/plain": [
              "33"
            ]
          },
          "metadata": {},
          "execution_count": 8
        }
      ]
    },
    {
      "cell_type": "code",
      "metadata": {
        "colab": {
          "base_uri": "https://localhost:8080/"
        },
        "id": "rRHI1W9FMrqs",
        "outputId": "7825716c-9676-4dd3-91bf-58a008d751eb"
      },
      "source": [
        "### Multiplication\n",
        "p = w * z\n",
        "p"
      ],
      "execution_count": null,
      "outputs": [
        {
          "output_type": "execute_result",
          "data": {
            "text/plain": [
              "-128.0"
            ]
          },
          "metadata": {},
          "execution_count": 15
        }
      ]
    },
    {
      "cell_type": "code",
      "metadata": {
        "colab": {
          "base_uri": "https://localhost:8080/"
        },
        "id": "UvXIFwq4NMnK",
        "outputId": "09c16fd6-cbf1-4682-abdd-7564ca021f78"
      },
      "source": [
        "### Division\n",
        "Q = y/x\n",
        "Q"
      ],
      "execution_count": null,
      "outputs": [
        {
          "output_type": "execute_result",
          "data": {
            "text/plain": [
              "-0.3333333333333333"
            ]
          },
          "metadata": {},
          "execution_count": 17
        }
      ]
    },
    {
      "cell_type": "code",
      "metadata": {
        "colab": {
          "base_uri": "https://localhost:8080/"
        },
        "id": "l49haERqNbP-",
        "outputId": "e49677b7-0c0a-4222-80ca-e1f67f5c2355"
      },
      "source": [
        "### Floor Division\n",
        "Qf = w//x\n",
        "Qf"
      ],
      "execution_count": null,
      "outputs": [
        {
          "output_type": "execute_result",
          "data": {
            "text/plain": [
              "-2.0"
            ]
          },
          "metadata": {},
          "execution_count": 19
        }
      ]
    },
    {
      "cell_type": "code",
      "metadata": {
        "colab": {
          "base_uri": "https://localhost:8080/"
        },
        "id": "s0GMkJSGOG11",
        "outputId": "ab0ce62e-de59-47f4-e570-792631d71b2d"
      },
      "source": [
        "### Exponentiation\n",
        "E = w**w\n",
        "E"
      ],
      "execution_count": null,
      "outputs": [
        {
          "output_type": "execute_result",
          "data": {
            "text/plain": [
              "256.0"
            ]
          },
          "metadata": {},
          "execution_count": 21
        }
      ]
    },
    {
      "cell_type": "code",
      "metadata": {
        "colab": {
          "base_uri": "https://localhost:8080/"
        },
        "id": "QI9indMDOUZK",
        "outputId": "3bb41680-9ee1-4f3e-ef4f-4c92eedcb52d"
      },
      "source": [
        "### Modulu\n",
        "mod = z%x\n",
        "mod"
      ],
      "execution_count": null,
      "outputs": [
        {
          "output_type": "execute_result",
          "data": {
            "text/plain": [
              "-2.0"
            ]
          },
          "metadata": {},
          "execution_count": 23
        }
      ]
    },
    {
      "cell_type": "markdown",
      "metadata": {
        "id": "GFJTQuMBOqlQ"
      },
      "source": [
        "### Assignment Operators\n",
        "Assignment operators use = to assign a value from left side operand to right side operand. It can also Add, Subtract, Multiply, Divide, takes Modulus, perform Exponential and perform Floor Division before assigning the result to the left operand "
      ]
    },
    {
      "cell_type": "code",
      "metadata": {
        "colab": {
          "base_uri": "https://localhost:8080/"
        },
        "id": "dWEZGtNcOwJD",
        "outputId": "f666eb35-849d-47e5-a035-c7e1a3bf6006"
      },
      "source": [
        "### increment\n",
        "A, B, C, D = 0, 100, 2, 1\n",
        "A += w\n",
        "A"
      ],
      "execution_count": null,
      "outputs": [
        {
          "output_type": "execute_result",
          "data": {
            "text/plain": [
              "4.0"
            ]
          },
          "metadata": {},
          "execution_count": 47
        }
      ]
    },
    {
      "cell_type": "code",
      "metadata": {
        "colab": {
          "base_uri": "https://localhost:8080/"
        },
        "id": "IQ8FgsL4PPKo",
        "outputId": "34e83e7e-bf62-478b-f062-f6066371fa1d"
      },
      "source": [
        "### Decrement\n",
        "B -= x\n",
        "B"
      ],
      "execution_count": null,
      "outputs": [
        {
          "output_type": "execute_result",
          "data": {
            "text/plain": [
              "121.0"
            ]
          },
          "metadata": {},
          "execution_count": 40
        }
      ]
    },
    {
      "cell_type": "code",
      "metadata": {
        "colab": {
          "base_uri": "https://localhost:8080/"
        },
        "id": "me1wOXiCPaN8",
        "outputId": "baa5e092-4bd0-4e7f-e66d-3d890668503e"
      },
      "source": [
        "C *= w\n",
        "C"
      ],
      "execution_count": null,
      "outputs": [
        {
          "output_type": "execute_result",
          "data": {
            "text/plain": [
              "512.0"
            ]
          },
          "metadata": {},
          "execution_count": 55
        }
      ]
    },
    {
      "cell_type": "code",
      "metadata": {
        "colab": {
          "base_uri": "https://localhost:8080/"
        },
        "id": "MmM3iGgGQLIO",
        "outputId": "94699032-1599-4cb3-9382-140bed7e621f"
      },
      "source": [
        "D /= x\n",
        "D"
      ],
      "execution_count": null,
      "outputs": [
        {
          "output_type": "execute_result",
          "data": {
            "text/plain": [
              "0.1111111111111111"
            ]
          },
          "metadata": {},
          "execution_count": 57
        }
      ]
    },
    {
      "cell_type": "code",
      "metadata": {
        "colab": {
          "base_uri": "https://localhost:8080/"
        },
        "id": "ipwu2DscQ9H5",
        "outputId": "961bd221-0fd8-4f2d-b092-0a49fdf8889a"
      },
      "source": [
        "E **= y\n",
        "E"
      ],
      "execution_count": null,
      "outputs": [
        {
          "output_type": "execute_result",
          "data": {
            "text/plain": [
              "4294967296.0"
            ]
          },
          "metadata": {},
          "execution_count": 69
        }
      ]
    },
    {
      "cell_type": "markdown",
      "metadata": {
        "id": "Q0MN1jzN-zr5"
      },
      "source": [
        "###Comparator Operators\n",
        "Comparator Operators compare the values on either sides of them and decide the relation among them. They are also called Relational operators."
      ]
    },
    {
      "cell_type": "code",
      "metadata": {
        "id": "3FbnmYpd-uIK"
      },
      "source": [
        "size_1, size_2, size_3 = 1, 2.0, \"1\"\n",
        "true_size = 1.0"
      ],
      "execution_count": null,
      "outputs": []
    },
    {
      "cell_type": "code",
      "metadata": {
        "colab": {
          "base_uri": "https://localhost:8080/"
        },
        "id": "cMF0XPTp_N0T",
        "outputId": "01b5ee41-4e9a-4f26-cf74-32468d8168b2"
      },
      "source": [
        "## Equality\n",
        "size_1 == true_size"
      ],
      "execution_count": null,
      "outputs": [
        {
          "output_type": "execute_result",
          "data": {
            "text/plain": [
              "True"
            ]
          },
          "metadata": {},
          "execution_count": 11
        }
      ]
    },
    {
      "cell_type": "code",
      "metadata": {
        "colab": {
          "base_uri": "https://localhost:8080/"
        },
        "id": "pm6heUi3_Z_Y",
        "outputId": "531f3060-b6e7-44f4-d575-0d534533420f"
      },
      "source": [
        "## Non-equallity\n",
        "size_1 != size_2"
      ],
      "execution_count": null,
      "outputs": [
        {
          "output_type": "execute_result",
          "data": {
            "text/plain": [
              "True"
            ]
          },
          "metadata": {},
          "execution_count": 13
        }
      ]
    },
    {
      "cell_type": "code",
      "metadata": {
        "id": "KuBw8ltUR7lw"
      },
      "source": [
        "## Inequality\n",
        "s1 = size_1 > size_2\n",
        "s2 = size_1 < size_2/2\n",
        "s3 = true_size >= size_1\n",
        "s4 = size_2 <= true_size"
      ],
      "execution_count": null,
      "outputs": []
    },
    {
      "cell_type": "markdown",
      "metadata": {
        "id": "xNkYg7vSSyCr"
      },
      "source": [
        "### Logical Operators\n",
        "These are the Three Logical Operators supported by Python:\n",
        "\n",
        "\n",
        "*   Logical AND\n",
        "*   Logical OR\n",
        "*   Logical NOT\n"
      ]
    },
    {
      "cell_type": "code",
      "metadata": {
        "colab": {
          "base_uri": "https://localhost:8080/"
        },
        "id": "5hQVwRBJS2JQ",
        "outputId": "da7a9808-513c-41de-9b08-9d6d3d0e74f1"
      },
      "source": [
        "size_1 == true_size\n",
        "size_1 is true_size "
      ],
      "execution_count": null,
      "outputs": [
        {
          "output_type": "execute_result",
          "data": {
            "text/plain": [
              "False"
            ]
          },
          "metadata": {},
          "execution_count": 81
        }
      ]
    },
    {
      "cell_type": "code",
      "metadata": {
        "colab": {
          "base_uri": "https://localhost:8080/"
        },
        "id": "U-xGc7mDTS8H",
        "outputId": "fbc3d2a1-cb69-4c8f-8cb7-ff21a0d76a0b"
      },
      "source": [
        "size_1 is not true_size"
      ],
      "execution_count": null,
      "outputs": [
        {
          "output_type": "execute_result",
          "data": {
            "text/plain": [
              "True"
            ]
          },
          "metadata": {},
          "execution_count": 82
        }
      ]
    },
    {
      "cell_type": "code",
      "metadata": {
        "colab": {
          "base_uri": "https://localhost:8080/"
        },
        "id": "YlrPC5HLTZam",
        "outputId": "84b4b7ab-6787-4d6b-c006-2d3522d77d5a"
      },
      "source": [
        "P, Q = True, False\n",
        "conj = P and Q\n",
        "conj"
      ],
      "execution_count": null,
      "outputs": [
        {
          "output_type": "execute_result",
          "data": {
            "text/plain": [
              "False"
            ]
          },
          "metadata": {},
          "execution_count": 86
        }
      ]
    },
    {
      "cell_type": "code",
      "metadata": {
        "colab": {
          "base_uri": "https://localhost:8080/"
        },
        "id": "kxHcIng1T1If",
        "outputId": "2e4cb0f3-addb-4e63-c5d6-ea025e979834"
      },
      "source": [
        "disj = P or Q\n",
        "disj"
      ],
      "execution_count": null,
      "outputs": [
        {
          "output_type": "execute_result",
          "data": {
            "text/plain": [
              "True"
            ]
          },
          "metadata": {},
          "execution_count": 88
        }
      ]
    },
    {
      "cell_type": "code",
      "metadata": {
        "colab": {
          "base_uri": "https://localhost:8080/"
        },
        "id": "JXOmVbNFUBl_",
        "outputId": "cee94f67-50e8-4d9d-bbc2-edb0ec0d4630"
      },
      "source": [
        "nand = not(P and Q)\n",
        "nand"
      ],
      "execution_count": null,
      "outputs": [
        {
          "output_type": "execute_result",
          "data": {
            "text/plain": [
              "True"
            ]
          },
          "metadata": {},
          "execution_count": 90
        }
      ]
    },
    {
      "cell_type": "code",
      "metadata": {
        "colab": {
          "base_uri": "https://localhost:8080/"
        },
        "id": "nq2WP4d2UPKh",
        "outputId": "235269a9-be85-4633-ee5d-c62733728df4"
      },
      "source": [
        "xor = (not P and Q) or (P and not Q)\n",
        "xor"
      ],
      "execution_count": null,
      "outputs": [
        {
          "output_type": "execute_result",
          "data": {
            "text/plain": [
              "True"
            ]
          },
          "metadata": {},
          "execution_count": 92
        }
      ]
    },
    {
      "cell_type": "markdown",
      "metadata": {
        "id": "9UQkM_wABxOc"
      },
      "source": [
        "## Input and Output\n",
        "There are several ways to present the output of a program; data can be printed in a human-readable form, or written to a file for future use."
      ]
    },
    {
      "cell_type": "code",
      "metadata": {
        "colab": {
          "base_uri": "https://localhost:8080/"
        },
        "id": "Mc3t2qbeB7h4",
        "outputId": "f0e9bcae-dd0c-4619-814c-139e72c8e037"
      },
      "source": [
        "print(\"Hello World!\")\n"
      ],
      "execution_count": null,
      "outputs": [
        {
          "output_type": "stream",
          "name": "stdout",
          "text": [
            "Hello World!\n"
          ]
        }
      ]
    },
    {
      "cell_type": "code",
      "metadata": {
        "id": "0rue1n__CGZV"
      },
      "source": [
        "cnt = 1"
      ],
      "execution_count": null,
      "outputs": []
    },
    {
      "cell_type": "code",
      "metadata": {
        "colab": {
          "base_uri": "https://localhost:8080/"
        },
        "id": "OsD6YyTiCTgH",
        "outputId": "d03002ff-3b71-4784-e385-018067f8130a"
      },
      "source": [
        "string = \"Hello World!\"\n",
        "print(string, \", current COVID count is:\", cnt)\n",
        "cnt += 10000"
      ],
      "execution_count": null,
      "outputs": [
        {
          "output_type": "stream",
          "name": "stdout",
          "text": [
            "Hello World! , current COVID count is: 40001\n"
          ]
        }
      ]
    },
    {
      "cell_type": "code",
      "metadata": {
        "colab": {
          "base_uri": "https://localhost:8080/"
        },
        "id": "_0u6pR68VdBg",
        "outputId": "5d845e9e-6bcc-4fc9-c632-5e5c577da6ee"
      },
      "source": [
        "sem_grade = 86.25\n",
        "name = \"Ferdinand\"\n",
        "print(\"Hello {}, your semestral grade is: {}\".format(name, sem_grade))"
      ],
      "execution_count": null,
      "outputs": [
        {
          "output_type": "stream",
          "name": "stdout",
          "text": [
            "Hello Ferdinand, your semestral grade is: 86.25\n"
          ]
        }
      ]
    },
    {
      "cell_type": "code",
      "metadata": {
        "colab": {
          "base_uri": "https://localhost:8080/"
        },
        "id": "wdZViWd9WJ6q",
        "outputId": "a5629239-5f33-4e21-b20f-3cf94aed9cf2"
      },
      "source": [
        "pg, mg, fg = 0.3, 0.3, 0.4\n",
        "print(\"The weights of your semestral grades are: \\\n",
        "\\n\\t {:.2%} for Prelims\\\n",
        "\\n\\t {:.2%} for Midterm, and\\\n",
        "\\n\\t {:.2%} for Finals\".format(pg,mg, fg))"
      ],
      "execution_count": null,
      "outputs": [
        {
          "output_type": "stream",
          "name": "stdout",
          "text": [
            "The weights of your semestral grades are: \n",
            "\t 30.00% for Prelims\n",
            "\t 30.00% for Midterm, and\n",
            "\t 40.00% for Finals\n"
          ]
        }
      ]
    },
    {
      "cell_type": "code",
      "metadata": {
        "colab": {
          "base_uri": "https://localhost:8080/"
        },
        "id": "p97IJig6XAfF",
        "outputId": "1b734fc2-8ebe-410c-fe48-e7d3060b3655"
      },
      "source": [
        "e = input(\"Enter a number: \")"
      ],
      "execution_count": null,
      "outputs": [
        {
          "name": "stdout",
          "output_type": "stream",
          "text": [
            "Enter a number: 2\n"
          ]
        }
      ]
    },
    {
      "cell_type": "code",
      "metadata": {
        "colab": {
          "base_uri": "https://localhost:8080/"
        },
        "id": "K4EyeeE1FOoy",
        "outputId": "b0e72911-232d-40f6-f06c-4a9bd4c6298e"
      },
      "source": [
        "name = input(\"Enter your name: \")\n",
        "pg = input(\"Enter prelim grade: \")\n",
        "mg = input(\"Enter midterm grade: \")\n",
        "fg = input(\"Enter final grade: \")\n",
        "sem_grade = None\n",
        "print(\"Hello {}, your semestral grade is: {}\".format(name, sem_grade))\n"
      ],
      "execution_count": null,
      "outputs": [
        {
          "output_type": "stream",
          "name": "stdout",
          "text": [
            "Enter your name: frs\n",
            "Enter prelim grade: 86\n",
            "Enter midterm grade: 56\n",
            "Enter final grade: 56\n",
            "Hello frs, your semestral grade is: None\n"
          ]
        }
      ]
    },
    {
      "cell_type": "markdown",
      "metadata": {
        "id": "aJb9OfO6Lei_"
      },
      "source": [
        "# Looping Statement\n",
        "A loop statement allows us to execute a statement or group of statements multiple times.\n",
        "\n",
        "## While Loop\n",
        "Repeats a statement or group of statements while a given condition is TRUE. It tests the condition before executing the loop body."
      ]
    },
    {
      "cell_type": "code",
      "metadata": {
        "colab": {
          "base_uri": "https://localhost:8080/"
        },
        "id": "Rxa1mJ45Xmh8",
        "outputId": "742b5db5-3525-4791-eb13-b39b5f36e3ab"
      },
      "source": [
        "## while loops\n",
        "i, j = 0, 10\n",
        "while(i <= j):\n",
        "  print(f\"{i}\\t|\\t{j}\")\n",
        "  i += 1"
      ],
      "execution_count": null,
      "outputs": [
        {
          "output_type": "stream",
          "name": "stdout",
          "text": [
            "0\t|\t10\n",
            "1\t|\t10\n",
            "2\t|\t10\n",
            "3\t|\t10\n",
            "4\t|\t10\n",
            "5\t|\t10\n",
            "6\t|\t10\n",
            "7\t|\t10\n",
            "8\t|\t10\n",
            "9\t|\t10\n",
            "10\t|\t10\n"
          ]
        }
      ]
    },
    {
      "cell_type": "markdown",
      "metadata": {
        "id": "WYTrgysFYMlF"
      },
      "source": [
        "## For Loop\n",
        "Executes a sequence of statements multiple times and abbreviates the code that manages the loop variable.\n",
        "\n"
      ]
    },
    {
      "cell_type": "code",
      "metadata": {
        "colab": {
          "base_uri": "https://localhost:8080/"
        },
        "id": "KGGZdeeUYHVe",
        "outputId": "f057d8e1-8e29-47fc-adc7-b9e139eacdbc"
      },
      "source": [
        "# for(int = 0; i < 10, i++){\n",
        "# printf(i)    \n",
        "#}\n",
        "i - 0\n",
        "for i in range(10):\n",
        "  print(i)"
      ],
      "execution_count": null,
      "outputs": [
        {
          "output_type": "stream",
          "name": "stdout",
          "text": [
            "0\n",
            "1\n",
            "2\n",
            "3\n",
            "4\n",
            "5\n",
            "6\n",
            "7\n",
            "8\n",
            "9\n"
          ]
        }
      ]
    },
    {
      "cell_type": "code",
      "metadata": {
        "colab": {
          "base_uri": "https://localhost:8080/"
        },
        "id": "yIGq5EnsY-QM",
        "outputId": "c2834a5f-4006-452a-e7e5-bc3b0cf05e00"
      },
      "source": [
        "## array\n",
        "playlist = [\"Bahay Kubo\", \"Magandang Kanta\", \"Buko\"]\n",
        "print(\"Now Playing:\\n\")\n",
        "for song in playlist:\n",
        "  print(song)"
      ],
      "execution_count": null,
      "outputs": [
        {
          "output_type": "stream",
          "name": "stdout",
          "text": [
            "Now Playing:\n",
            "\n",
            "Bahay Kubo\n",
            "Magandang Kanta\n",
            "Buko\n"
          ]
        }
      ]
    },
    {
      "cell_type": "markdown",
      "metadata": {
        "id": "TzId2x3RNWFx"
      },
      "source": [
        "#FLOW Control\n",
        "\n",
        "Flow Control is anticipation of conditions occurring while execution of the program and specifying actions taken according to the conditions.\n",
        "\n",
        "Python programming language assumes any non-zero and non-null values as TRUE, and if it is either zero or null, then it is assumed as FALSE value.\n",
        "\n",
        "##Condition Statements\n"
      ]
    },
    {
      "cell_type": "code",
      "metadata": {
        "colab": {
          "base_uri": "https://localhost:8080/"
        },
        "id": "KtmhMNSRNo30",
        "outputId": "51507e7a-b3c6-4fcf-c6d7-cf0e767beaaf"
      },
      "source": [
        "num_1, num_2 = 12, 12\n",
        "\n",
        "if(num_1 == num_2):\n",
        "  print(\"HAHA\")\n",
        "elif(num_1 > num_2):\n",
        "  print(\"HoHo\")\n",
        "else:\n",
        "  print(\"HUHU\")"
      ],
      "execution_count": null,
      "outputs": [
        {
          "output_type": "stream",
          "name": "stdout",
          "text": [
            "HAHA\n"
          ]
        }
      ]
    },
    {
      "cell_type": "markdown",
      "metadata": {
        "id": "fClYbjJLOOZL"
      },
      "source": [
        "#Functions\n",
        " function is a block of organized, reusable code that is used to perform a single, related action. Functions provide better modularity for your application and a high degree of code reusing.\n",
        "\n",
        "As you already know, Python gives you many built-in functions like print(), etc. but you can also create your own functions. These functions are called user-defined functions.[2]"
      ]
    },
    {
      "cell_type": "code",
      "metadata": {
        "id": "yrDxd0oVZ8x8"
      },
      "source": [
        "# void DeleteUser(int userid){\n",
        "# delete(userid)    \n",
        "#}\n",
        "def delete_user (userid):\n",
        "  print(\"Successfuly deleted user: {}\".format(userid))"
      ],
      "execution_count": null,
      "outputs": []
    },
    {
      "cell_type": "code",
      "metadata": {
        "colab": {
          "base_uri": "https://localhost:8080/"
        },
        "id": "I9qpjoOOaYY3",
        "outputId": "910f0bfa-c440-4018-d00e-453fb43a00c7"
      },
      "source": [
        "userid = 2020_100100\n",
        "delete_user(userid)"
      ],
      "execution_count": null,
      "outputs": [
        {
          "output_type": "stream",
          "name": "stdout",
          "text": [
            "Successfuly deleted user: 2020100100\n"
          ]
        }
      ]
    },
    {
      "cell_type": "code",
      "metadata": {
        "id": "FBEEAR5BPUDy"
      },
      "source": [
        "a1, a2 = 5, 6"
      ],
      "execution_count": null,
      "outputs": []
    },
    {
      "cell_type": "code",
      "metadata": {
        "id": "F6T4l_FPOSZ_"
      },
      "source": [
        "def add(a1, a2):\n",
        "  return a1 + a2"
      ],
      "execution_count": null,
      "outputs": []
    },
    {
      "cell_type": "code",
      "metadata": {
        "colab": {
          "base_uri": "https://localhost:8080/"
        },
        "id": "XRJSO_o9PSiH",
        "outputId": "879dc2ab-9dba-4ec8-f5e3-aa94960b9ac9"
      },
      "source": [
        "add(a1, a2)"
      ],
      "execution_count": null,
      "outputs": [
        {
          "output_type": "execute_result",
          "data": {
            "text/plain": [
              "11"
            ]
          },
          "metadata": {},
          "execution_count": 110
        }
      ]
    },
    {
      "cell_type": "markdown",
      "metadata": {
        "id": "YjdFOa4LSr4f"
      },
      "source": [
        "##References:\n",
        "\n",
        "[1] The Python Tutorial [2021](https://docs.python.org/3/tutorial/)"
      ]
    },
    {
      "cell_type": "markdown",
      "metadata": {
        "id": "iwKc_TXUSKzl"
      },
      "source": [
        "![image](https://upload.wikimedia.org/wikipedia/commons/c/c3/Python-logo-notext.svg)\n",
        "\n"
      ]
    },
    {
      "cell_type": "markdown",
      "metadata": {
        "id": "PnJT3-gchV3n"
      },
      "source": [
        "[2] Python Tutorial [Tutorialspoint](https://www.tutorialspoint.com/python/index.htm)"
      ]
    },
    {
      "cell_type": "markdown",
      "metadata": {
        "id": "rPnrIWPphypD"
      },
      "source": [
        "![image](https://www.tutorialspoint.com/python/images/logo.png)"
      ]
    }
  ]
}