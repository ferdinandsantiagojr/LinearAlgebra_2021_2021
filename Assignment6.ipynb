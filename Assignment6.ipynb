{
  "nbformat": 4,
  "nbformat_minor": 0,
  "metadata": {
    "colab": {
      "name": "Assignment6.ipynb",
      "provenance": [],
      "collapsed_sections": [],
      "authorship_tag": "ABX9TyOc2knhQTuZadaH1gZIt4/Y",
      "include_colab_link": true
    },
    "kernelspec": {
      "name": "python3",
      "display_name": "Python 3"
    },
    "language_info": {
      "name": "python"
    }
  },
  "cells": [
    {
      "cell_type": "markdown",
      "metadata": {
        "id": "view-in-github",
        "colab_type": "text"
      },
      "source": [
        "<a href=\"https://colab.research.google.com/github/frsantiagojr/LinearAlgebra_2021_2021/blob/main/Assignment6.ipynb\" target=\"_parent\"><img src=\"https://colab.research.google.com/assets/colab-badge.svg\" alt=\"Open In Colab\"/></a>"
      ]
    },
    {
      "cell_type": "markdown",
      "metadata": {
        "id": "CaNpt5R9EbcV"
      },
      "source": [
        "### Linear Algebra for ECE"
      ]
    },
    {
      "cell_type": "markdown",
      "metadata": {
        "id": "vzLEjLrSG-IP"
      },
      "source": [
        "### Laboratory 6: Matrix Operations"
      ]
    },
    {
      "cell_type": "markdown",
      "metadata": {
        "id": "np547cl0ElC2"
      },
      "source": [
        "Now that you have a fundamental knowledge about representing and operating with vector as well as the fundamental of matrices, we'll try to the same oerations with matrices and even more."
      ]
    },
    {
      "cell_type": "markdown",
      "metadata": {
        "id": "OXoiw4EaFDSc"
      },
      "source": [
        "### Objectives"
      ]
    },
    {
      "cell_type": "markdown",
      "metadata": {
        "id": "YPgHryfaFHF_"
      },
      "source": [
        "At the end of this ativity you will be able to:\n",
        "\n",
        "1.   Be familiar with the fundamental matix operations.\n",
        "2.   Apply the operations to solve intermediate equations.\n",
        "3.   Apply matrix algebra in engineering solutions.\n",
        "\n",
        "\n",
        "\n"
      ]
    },
    {
      "cell_type": "markdown",
      "metadata": {
        "id": "Ydgwo-cNFn_W"
      },
      "source": [
        "### Discussion"
      ]
    },
    {
      "cell_type": "code",
      "metadata": {
        "id": "ucgHllkHDkCK"
      },
      "source": [
        "import numpy as np\n",
        "import matplotlib.pyplot as plt\n",
        "%matplotlib inline"
      ],
      "execution_count": 2,
      "outputs": []
    },
    {
      "cell_type": "markdown",
      "metadata": {
        "id": "ZeYmDr4wHIww"
      },
      "source": [
        "### Transposition"
      ]
    },
    {
      "cell_type": "markdown",
      "metadata": {
        "id": "CVKnDl3BHP7L"
      },
      "source": [
        "One of the fundamental operations in matrix algebra is Transposition. The transpose of a matrix is done by flipping the values of its elements over its diagonals. With this, the rows and columns from the original matrix will be switched. So for a matrix $A$ its transpose is denoted as $A^T$. So for example:"
      ]
    },
    {
      "cell_type": "markdown",
      "metadata": {
        "id": "mBv_7EHtHqix"
      },
      "source": [
        "$$A = \\begin{bmatrix} 1 & 2 & 5\\\\5 & -1 &0 \\\\ 0 & -3 & 3\\end{bmatrix} $$"
      ]
    },
    {
      "cell_type": "markdown",
      "metadata": {
        "id": "r1lEBrWGHw-c"
      },
      "source": [
        "$$A^T = \\begin{bmatrix} 1 & 2 & 5\\\\5 & -1 &0 \\\\ 0 & -3 & 3\\end{bmatrix} $$"
      ]
    },
    {
      "cell_type": "markdown",
      "metadata": {
        "id": "RLEE6hcAS32X"
      },
      "source": [
        "This can now be achieved programmatically by using np.transpose() or using the T method."
      ]
    },
    {
      "cell_type": "code",
      "metadata": {
        "colab": {
          "base_uri": "https://localhost:8080/"
        },
        "id": "3h4GsC0-HqGo",
        "outputId": "292843e4-e3c2-4ebc-bb02-e584231e0999"
      },
      "source": [
        "A = np.array([[1, 2, 5],\n",
        "             [5, -1, 0],\n",
        "             [0, -3, 3]])\n",
        "A"
      ],
      "execution_count": null,
      "outputs": [
        {
          "output_type": "execute_result",
          "data": {
            "text/plain": [
              "array([[ 1,  2,  5],\n",
              "       [ 5, -1,  0],\n",
              "       [ 0, -3,  3]])"
            ]
          },
          "metadata": {},
          "execution_count": 11
        }
      ]
    },
    {
      "cell_type": "code",
      "metadata": {
        "colab": {
          "base_uri": "https://localhost:8080/"
        },
        "id": "nzc-vgLjHbmI",
        "outputId": "5af488e4-af05-4f6e-ad09-e7b84168a8ab"
      },
      "source": [
        "AT1 = np.transpose(A)\n",
        "AT1"
      ],
      "execution_count": null,
      "outputs": [
        {
          "output_type": "execute_result",
          "data": {
            "text/plain": [
              "array([[ 1,  5,  0],\n",
              "       [ 2, -1, -3],\n",
              "       [ 5,  0,  3]])"
            ]
          },
          "metadata": {},
          "execution_count": 12
        }
      ]
    },
    {
      "cell_type": "code",
      "metadata": {
        "colab": {
          "base_uri": "https://localhost:8080/"
        },
        "id": "g1f046YBIoyf",
        "outputId": "fa8477c8-861c-4c50-bb79-0f87edbff94b"
      },
      "source": [
        "AT2 = A.T\n",
        "AT2"
      ],
      "execution_count": null,
      "outputs": [
        {
          "output_type": "execute_result",
          "data": {
            "text/plain": [
              "array([[ 1,  5,  0],\n",
              "       [ 2, -1, -3],\n",
              "       [ 5,  0,  3]])"
            ]
          },
          "metadata": {},
          "execution_count": 13
        }
      ]
    },
    {
      "cell_type": "code",
      "metadata": {
        "colab": {
          "base_uri": "https://localhost:8080/"
        },
        "id": "2VAOWTNCIzYv",
        "outputId": "1bb5ea1d-01e1-4041-c1ec-30c4526d5543"
      },
      "source": [
        "np.array_equiv(AT1, AT2)"
      ],
      "execution_count": null,
      "outputs": [
        {
          "output_type": "execute_result",
          "data": {
            "text/plain": [
              "True"
            ]
          },
          "metadata": {},
          "execution_count": 14
        }
      ]
    },
    {
      "cell_type": "code",
      "metadata": {
        "colab": {
          "base_uri": "https://localhost:8080/"
        },
        "id": "Z87LAvdSKllT",
        "outputId": "4b9a2c76-dd51-4bd7-8660-29ac664958c2"
      },
      "source": [
        "B = np.array([\n",
        "              [1,2,3,4],\n",
        "              [1,0,2,1]\n",
        "              ])\n",
        "B.shape"
      ],
      "execution_count": null,
      "outputs": [
        {
          "output_type": "execute_result",
          "data": {
            "text/plain": [
              "(2, 4)"
            ]
          },
          "metadata": {},
          "execution_count": 15
        }
      ]
    },
    {
      "cell_type": "code",
      "metadata": {
        "colab": {
          "base_uri": "https://localhost:8080/"
        },
        "id": "PrBELGchLHUI",
        "outputId": "b2c730cf-d117-419a-ed37-f1343d9bcf42"
      },
      "source": [
        "np.transpose(B).shape"
      ],
      "execution_count": null,
      "outputs": [
        {
          "output_type": "execute_result",
          "data": {
            "text/plain": [
              "(4, 2)"
            ]
          },
          "metadata": {},
          "execution_count": 16
        }
      ]
    },
    {
      "cell_type": "code",
      "metadata": {
        "colab": {
          "base_uri": "https://localhost:8080/"
        },
        "id": "bEj-_ueZLO4G",
        "outputId": "fcb0ed24-a193-4543-83e8-e8756a8ef9f9"
      },
      "source": [
        "B.T.shape"
      ],
      "execution_count": null,
      "outputs": [
        {
          "output_type": "execute_result",
          "data": {
            "text/plain": [
              "(4, 2)"
            ]
          },
          "metadata": {},
          "execution_count": 17
        }
      ]
    },
    {
      "cell_type": "markdown",
      "metadata": {
        "id": "b6ooD4G_LUeV"
      },
      "source": [
        ""
      ]
    },
    {
      "cell_type": "code",
      "metadata": {
        "colab": {
          "base_uri": "https://localhost:8080/"
        },
        "id": "H5q-BnDNLVlL",
        "outputId": "94a9ff2f-b65d-463b-a020-2b71b93b7a63"
      },
      "source": [
        "C = np.array([\n",
        "              [2, 3, 8],\n",
        "              [8, 5, 6]\n",
        "])\n",
        "C"
      ],
      "execution_count": null,
      "outputs": [
        {
          "output_type": "execute_result",
          "data": {
            "text/plain": [
              "array([[2, 3, 8],\n",
              "       [8, 5, 6]])"
            ]
          },
          "metadata": {},
          "execution_count": 19
        }
      ]
    },
    {
      "cell_type": "code",
      "metadata": {
        "colab": {
          "base_uri": "https://localhost:8080/"
        },
        "id": "uKP4e51TMZdM",
        "outputId": "044c8497-5f1c-4254-e9d5-deecc7a165f8"
      },
      "source": [
        "C.shape"
      ],
      "execution_count": null,
      "outputs": [
        {
          "output_type": "execute_result",
          "data": {
            "text/plain": [
              "(2, 3)"
            ]
          },
          "metadata": {},
          "execution_count": 24
        }
      ]
    },
    {
      "cell_type": "code",
      "metadata": {
        "colab": {
          "base_uri": "https://localhost:8080/"
        },
        "id": "iqaHTDnoLwzE",
        "outputId": "79c3df09-6de3-4cf1-ad82-c3761ebb0308"
      },
      "source": [
        "np.transpose(C)"
      ],
      "execution_count": null,
      "outputs": [
        {
          "output_type": "execute_result",
          "data": {
            "text/plain": [
              "array([[2, 8],\n",
              "       [3, 5],\n",
              "       [8, 6]])"
            ]
          },
          "metadata": {},
          "execution_count": 25
        }
      ]
    },
    {
      "cell_type": "code",
      "metadata": {
        "colab": {
          "base_uri": "https://localhost:8080/"
        },
        "id": "cxg7DV7_MBrt",
        "outputId": "dbd7cb25-3c70-4d35-ad3f-ece9b7997d7a"
      },
      "source": [
        "C.T.shape"
      ],
      "execution_count": null,
      "outputs": [
        {
          "output_type": "execute_result",
          "data": {
            "text/plain": [
              "(3, 2)"
            ]
          },
          "metadata": {},
          "execution_count": 26
        }
      ]
    },
    {
      "cell_type": "markdown",
      "metadata": {
        "id": "R17S5a8wNmfS"
      },
      "source": [
        "### Dot Product"
      ]
    },
    {
      "cell_type": "markdown",
      "metadata": {
        "id": "sAvbjCm7TD6y"
      },
      "source": [
        "Dot Product / Inner Product\n",
        "If you recall the dot product from laboratory activity before, we will try to implement the same operation with matrices. In matrix dot product we are going to get the sum of products of the vectors by row-column pairs. So if we have two matrices $X$ and $Y$:\n",
        "\n",
        "$$X = \\begin{bmatrix}x_{(0,0)}&amp;x_{(0,1)}\\\\ x_{(1,0)}&amp;x_{(1,1)}\\end{bmatrix}, Y = \\begin{bmatrix}y_{(0,0)}&amp;y_{(0,1)}\\\\ y_{(1,0)}&amp;y_{(1,1)}\\end{bmatrix}$$\n",
        "\n",
        "The dot product will then be computed as:$$X \\cdot Y= \\begin{bmatrix} x_{(0,0)}*y_{(0,0)} + x_{(0,1)}*y_{(1,0)} &amp; x_{(0,0)}*y_{(0,1)} + x_{(0,1)}*y_{(1,1)} \\\\  x_{(1,0)}*y_{(0,0)} + x_{(1,1)}*y_{(1,0)} &amp; x_{(1,0)}*y_{(0,1)} + x_{(1,1)}*y_{(1,1)}\n",
        "\\end{bmatrix}$$\n",
        "\n",
        "So if we assign values to $X$ and $Y$:$$X = \\begin{bmatrix}1&amp;2\\\\ 0&amp;1\\end{bmatrix}, Y = \\begin{bmatrix}-1&amp;0\\\\ 2&amp;2\\end{bmatrix}$$\n",
        "\n",
        "$$X \\cdot Y= \\begin{bmatrix} 1*-1 + 2*2 &amp; 1*0 + 2*2 \\\\  0*-1 + 1*2 &amp; 0*0 + 1*2 \\end{bmatrix} = \\begin{bmatrix} 3 &amp; 4 \\\\2 &amp; 2 \\end{bmatrix}$$\n",
        "\n",
        "This could be achieved programmatically using np.dot(), np.matmul() or the @ operator."
      ]
    },
    {
      "cell_type": "code",
      "metadata": {
        "id": "Sj7j1s9MNtM1"
      },
      "source": [
        "X = np.array([\n",
        "              [1, 2],\n",
        "              [0, 1]\n",
        "])\n",
        "Y = np.array([\n",
        "              [-1, 0],\n",
        "              [2, 2]\n",
        "              ])\n",
        "np.dot(X, Y)"
      ],
      "execution_count": null,
      "outputs": []
    },
    {
      "cell_type": "code",
      "metadata": {
        "colab": {
          "base_uri": "https://localhost:8080/"
        },
        "id": "X4SkHDJ8OaPO",
        "outputId": "27a43063-5672-4fa3-9d53-394902f70743"
      },
      "source": [
        "np.dot(X, Y)"
      ],
      "execution_count": null,
      "outputs": [
        {
          "output_type": "execute_result",
          "data": {
            "text/plain": [
              "array([[3, 4],\n",
              "       [2, 2]])"
            ]
          },
          "metadata": {},
          "execution_count": 29
        }
      ]
    },
    {
      "cell_type": "code",
      "metadata": {
        "colab": {
          "base_uri": "https://localhost:8080/"
        },
        "id": "Q6hgTtnCOe5U",
        "outputId": "df938a70-f6ec-4aa7-bc58-be870eff205f"
      },
      "source": [
        "X @ Y"
      ],
      "execution_count": null,
      "outputs": [
        {
          "output_type": "execute_result",
          "data": {
            "text/plain": [
              "array([[3, 4],\n",
              "       [2, 2]])"
            ]
          },
          "metadata": {},
          "execution_count": 30
        }
      ]
    },
    {
      "cell_type": "code",
      "metadata": {
        "colab": {
          "base_uri": "https://localhost:8080/"
        },
        "id": "FVWtjNUJOi_5",
        "outputId": "0a56a354-442a-402a-e20a-c476c5fea6fa"
      },
      "source": [
        "np.matmul(X, Y)"
      ],
      "execution_count": null,
      "outputs": [
        {
          "output_type": "execute_result",
          "data": {
            "text/plain": [
              "array([[3, 4],\n",
              "       [2, 2]])"
            ]
          },
          "metadata": {},
          "execution_count": 31
        }
      ]
    },
    {
      "cell_type": "code",
      "metadata": {
        "colab": {
          "base_uri": "https://localhost:8080/"
        },
        "id": "ffaVsQ1VOubp",
        "outputId": "dd39ca7d-0990-4236-e51f-1f44f1f259f5"
      },
      "source": [
        "X.dot(Y)"
      ],
      "execution_count": null,
      "outputs": [
        {
          "output_type": "execute_result",
          "data": {
            "text/plain": [
              "array([[3, 4],\n",
              "       [2, 2]])"
            ]
          },
          "metadata": {},
          "execution_count": 32
        }
      ]
    },
    {
      "cell_type": "code",
      "metadata": {
        "id": "UnXGbfAOOyoV"
      },
      "source": [
        "F = np.array([\n",
        "              [9, 9, 8],\n",
        "              [1, 1, 2]\n",
        "])\n",
        "R = np.array([\n",
        "             [1, 5],\n",
        "             [2, 4],\n",
        "             [6, 9]\n",
        "])"
      ],
      "execution_count": null,
      "outputs": []
    },
    {
      "cell_type": "code",
      "metadata": {
        "colab": {
          "base_uri": "https://localhost:8080/"
        },
        "id": "KSp2wtVpPYHq",
        "outputId": "cf97f5b6-9023-4497-f336-1c35bd8860f2"
      },
      "source": [
        "np.dot(F, R)"
      ],
      "execution_count": null,
      "outputs": [
        {
          "output_type": "execute_result",
          "data": {
            "text/plain": [
              "array([[ 75, 153],\n",
              "       [ 15,  27]])"
            ]
          },
          "metadata": {},
          "execution_count": 35
        }
      ]
    },
    {
      "cell_type": "code",
      "metadata": {
        "colab": {
          "base_uri": "https://localhost:8080/"
        },
        "id": "TA4nt47nPile",
        "outputId": "353ec373-6476-431c-9c8a-aa966cdbffd4"
      },
      "source": [
        "F.dot(R)"
      ],
      "execution_count": null,
      "outputs": [
        {
          "output_type": "execute_result",
          "data": {
            "text/plain": [
              "array([[ 75, 153],\n",
              "       [ 15,  27]])"
            ]
          },
          "metadata": {},
          "execution_count": 36
        }
      ]
    },
    {
      "cell_type": "code",
      "metadata": {
        "colab": {
          "base_uri": "https://localhost:8080/"
        },
        "id": "zTpfjatRPm15",
        "outputId": "8be76e1d-f18d-4a5a-e7ee-53861a057d87"
      },
      "source": [
        "F @ R"
      ],
      "execution_count": null,
      "outputs": [
        {
          "output_type": "execute_result",
          "data": {
            "text/plain": [
              "array([[ 75, 153],\n",
              "       [ 15,  27]])"
            ]
          },
          "metadata": {},
          "execution_count": 37
        }
      ]
    },
    {
      "cell_type": "code",
      "metadata": {
        "colab": {
          "base_uri": "https://localhost:8080/"
        },
        "id": "0VRId96-Prqk",
        "outputId": "580aff21-0399-4d73-9a3c-9599432e2be4"
      },
      "source": [
        "np.matmul(F, R)"
      ],
      "execution_count": null,
      "outputs": [
        {
          "output_type": "execute_result",
          "data": {
            "text/plain": [
              "array([[ 75, 153],\n",
              "       [ 15,  27]])"
            ]
          },
          "metadata": {},
          "execution_count": 38
        }
      ]
    },
    {
      "cell_type": "markdown",
      "metadata": {
        "id": "9LTgpJJyTUXA"
      },
      "source": [
        "In matrix dot products there are additional rules compared with vector dot products. Since vector dot products were just in one dimension there are less restrictions. Since now we are dealing with Rank 2 vectors we need to consider some rules:"
      ]
    },
    {
      "cell_type": "markdown",
      "metadata": {
        "id": "OPtBX37WUF0S"
      },
      "source": [
        "##**Rule 1: The inner dimensions of the two matrices in question must be the same**"
      ]
    },
    {
      "cell_type": "markdown",
      "metadata": {
        "id": "lVxzRtjPQrjH"
      },
      "source": [
        "So given a matrix $A$ with a shape of $(a,b)$ where $a$ and $b$ are any integers. If we want to do a dot product between $A$ and another matrix $B$, then matrix $B$ should have a shape of $(b,c)$ where $b$ and $c$ are any integers. So for given the following matrices:\n",
        "\n",
        "$$A = \\begin{bmatrix}2&amp;4\\\\5&amp;-2\\\\0&amp;1\\end{bmatrix}, B = \\begin{bmatrix}1&amp;1\\\\3&amp;3\\\\-1&amp;-2\\end{bmatrix}, C = \\begin{bmatrix}0&amp;1&amp;1\\\\1&amp;1&amp;2\\end{bmatrix}$$\n",
        "So in this case $A$ has a shape of $(3,2)$, $B$ has a shape of $(3,2)$ and $C$ has a shape of $(2,3)$. So the only matrix pairs that is eligible to perform dot product is matrices $A \\cdot C$, or $B \\cdot C$."
      ]
    },
    {
      "cell_type": "code",
      "metadata": {
        "id": "3HFYXHWWQt9S"
      },
      "source": [
        "A = np.array([\n",
        "              [2, 4],\n",
        "              [5, -2],\n",
        "              [0, 1]\n",
        "])\n",
        "B = np.array([\n",
        "              [1, 1],\n",
        "              [3, 3],\n",
        "              [1, 2]\n",
        "])\n",
        "C = np.array([\n",
        "              [0, 1, 1],\n",
        "              [1, 1, 2]\n",
        "])\n",
        "\n"
      ],
      "execution_count": null,
      "outputs": []
    },
    {
      "cell_type": "code",
      "metadata": {
        "colab": {
          "base_uri": "https://localhost:8080/"
        },
        "id": "PS2I9weURpNQ",
        "outputId": "662d8fd9-4d2c-45e7-be98-a3e0bf8da3c9"
      },
      "source": [
        "A.shape\n",
        "B.shape\n",
        "C.shape\n"
      ],
      "execution_count": null,
      "outputs": [
        {
          "output_type": "execute_result",
          "data": {
            "text/plain": [
              "(2, 3)"
            ]
          },
          "metadata": {},
          "execution_count": 40
        }
      ]
    },
    {
      "cell_type": "code",
      "metadata": {
        "colab": {
          "base_uri": "https://localhost:8080/"
        },
        "id": "5IiPKzEfRxuy",
        "outputId": "bf7f8457-9cf9-400c-c5bc-de0207dc68d3"
      },
      "source": [
        "A @ C\n"
      ],
      "execution_count": null,
      "outputs": [
        {
          "output_type": "execute_result",
          "data": {
            "text/plain": [
              "array([[ 4,  6, 10],\n",
              "       [-2,  3,  1],\n",
              "       [ 1,  1,  2]])"
            ]
          },
          "metadata": {},
          "execution_count": 42
        }
      ]
    },
    {
      "cell_type": "code",
      "metadata": {
        "colab": {
          "base_uri": "https://localhost:8080/"
        },
        "id": "4BT5y7T4R4pm",
        "outputId": "20f26f53-4996-4535-f427-142ddb34886f"
      },
      "source": [
        "B @ C"
      ],
      "execution_count": null,
      "outputs": [
        {
          "output_type": "execute_result",
          "data": {
            "text/plain": [
              "array([[1, 2, 3],\n",
              "       [3, 6, 9],\n",
              "       [2, 3, 5]])"
            ]
          },
          "metadata": {},
          "execution_count": 43
        }
      ]
    },
    {
      "cell_type": "code",
      "metadata": {
        "colab": {
          "base_uri": "https://localhost:8080/",
          "height": 165
        },
        "id": "CuZCXPBlR6Dz",
        "outputId": "90b74835-562f-49ef-8c05-dbfdeb3df308"
      },
      "source": [
        "A @ B\n"
      ],
      "execution_count": null,
      "outputs": [
        {
          "output_type": "error",
          "ename": "ValueError",
          "evalue": "ignored",
          "traceback": [
            "\u001b[0;31m---------------------------------------------------------------------------\u001b[0m",
            "\u001b[0;31mValueError\u001b[0m                                Traceback (most recent call last)",
            "\u001b[0;32m<ipython-input-44-455d622f3b50>\u001b[0m in \u001b[0;36m<module>\u001b[0;34m()\u001b[0m\n\u001b[0;32m----> 1\u001b[0;31m \u001b[0mA\u001b[0m \u001b[0;34m@\u001b[0m \u001b[0mB\u001b[0m\u001b[0;34m\u001b[0m\u001b[0;34m\u001b[0m\u001b[0m\n\u001b[0m",
            "\u001b[0;31mValueError\u001b[0m: matmul: Input operand 1 has a mismatch in its core dimension 0, with gufunc signature (n?,k),(k,m?)->(n?,m?) (size 3 is different from 2)"
          ]
        }
      ]
    },
    {
      "cell_type": "code",
      "metadata": {
        "colab": {
          "base_uri": "https://localhost:8080/"
        },
        "id": "-vswmQ-XR-YW",
        "outputId": "aacba9d7-0ce2-4f9e-8ac5-fc3f664a0720"
      },
      "source": [
        "A @ B.T"
      ],
      "execution_count": null,
      "outputs": [
        {
          "output_type": "execute_result",
          "data": {
            "text/plain": [
              "array([[ 6, 18, 10],\n",
              "       [ 3,  9,  1],\n",
              "       [ 1,  3,  2]])"
            ]
          },
          "metadata": {},
          "execution_count": 47
        }
      ]
    },
    {
      "cell_type": "code",
      "metadata": {
        "id": "WKIE6EHvSM1E"
      },
      "source": [
        "X = np.array([\n",
        "              [1,2,3,0]\n",
        "])\n",
        "Y = np.array([\n",
        "              [1, 0, 4, -1]\n",
        "])"
      ],
      "execution_count": null,
      "outputs": []
    },
    {
      "cell_type": "code",
      "metadata": {
        "colab": {
          "base_uri": "https://localhost:8080/"
        },
        "id": "8gcNlOE0SnbG",
        "outputId": "09348252-ec39-41b7-a380-94552b09c79f"
      },
      "source": [
        "Y.T @ X"
      ],
      "execution_count": null,
      "outputs": [
        {
          "output_type": "execute_result",
          "data": {
            "text/plain": [
              "array([[ 1,  2,  3,  0],\n",
              "       [ 0,  0,  0,  0],\n",
              "       [ 4,  8, 12,  0],\n",
              "       [-1, -2, -3,  0]])"
            ]
          },
          "metadata": {},
          "execution_count": 49
        }
      ]
    },
    {
      "cell_type": "code",
      "metadata": {
        "colab": {
          "base_uri": "https://localhost:8080/"
        },
        "id": "MzIzt2UNSq3d",
        "outputId": "ee146fdc-237b-426f-ff32-bce1f6de56d4"
      },
      "source": [
        "X @ Y.T"
      ],
      "execution_count": null,
      "outputs": [
        {
          "output_type": "execute_result",
          "data": {
            "text/plain": [
              "array([[13]])"
            ]
          },
          "metadata": {},
          "execution_count": 50
        }
      ]
    },
    {
      "cell_type": "markdown",
      "metadata": {
        "id": "N3hfU0cjTzz5"
      },
      "source": [
        "##**Rule 2: Dot Product has special properties**"
      ]
    },
    {
      "cell_type": "markdown",
      "metadata": {
        "id": "YrQJbZXgSyll"
      },
      "source": [
        "\n",
        "Dot products are prevalent in matrix algebra, this implies that it has several unique properties and it should be considered when formulation solutions:\n",
        "\n",
        "$A \\cdot B \\neq B \\cdot A$\n",
        "\n",
        "$A \\cdot (B \\cdot C) = (A \\cdot B) \\cdot C$\n",
        "\n",
        "$A\\cdot(B+C) = A\\cdot B + A\\cdot C$\n",
        "\n",
        "$(B+C)\\cdot A = B\\cdot A + C\\cdot A$\n",
        "\n",
        "$A\\cdot I = A$\n",
        "\n",
        "$A\\cdot \\emptyset = \\emptyset$\n",
        "\n",
        "I'll be doing just one of the properties and I'll leave the rest to test your skills!"
      ]
    },
    {
      "cell_type": "code",
      "metadata": {
        "id": "3bBYghXmS1Pm"
      },
      "source": [
        "J = np.array([\n",
        "              [1, 1, -2],\n",
        "              [5, 6, 8],\n",
        "              [2, 3, 5]\n",
        "\n",
        "])\n",
        "R = np.array([\n",
        "              [6, 7, 9], \n",
        "              [5, 8, -1],\n",
        "              [-2, 7, 6]\n",
        "])\n",
        "S = np.array([\n",
        "              [1, 2, 9],\n",
        "              [9, 8, 7],\n",
        "              [6, 5, 4]\n",
        "])\n"
      ],
      "execution_count": null,
      "outputs": []
    },
    {
      "cell_type": "code",
      "metadata": {
        "id": "exNnOCkIT166"
      },
      "source": [
        "F1 = J @ R\n",
        "F2 = R @ J"
      ],
      "execution_count": null,
      "outputs": []
    },
    {
      "cell_type": "code",
      "metadata": {
        "colab": {
          "base_uri": "https://localhost:8080/"
        },
        "id": "ugBDZJLiVWIB",
        "outputId": "eb2ab66a-ba7f-4959-9510-c7faabf6b363"
      },
      "source": [
        "np.array_equal(F1, F2)"
      ],
      "execution_count": null,
      "outputs": [
        {
          "output_type": "execute_result",
          "data": {
            "text/plain": [
              "False"
            ]
          },
          "metadata": {},
          "execution_count": 19
        }
      ]
    },
    {
      "cell_type": "code",
      "metadata": {
        "id": "vm6Bn2CgVcsg"
      },
      "source": [
        "F3 = J @ (R @ S)\n",
        "F4 = (J @ R) @ S"
      ],
      "execution_count": null,
      "outputs": []
    },
    {
      "cell_type": "code",
      "metadata": {
        "colab": {
          "base_uri": "https://localhost:8080/"
        },
        "id": "amK_Ud5jVtNN",
        "outputId": "fd6cdca9-20a6-420e-ad3b-f70a656043a5"
      },
      "source": [
        "np.array_equal(F3, F4)"
      ],
      "execution_count": null,
      "outputs": [
        {
          "output_type": "execute_result",
          "data": {
            "text/plain": [
              "True"
            ]
          },
          "metadata": {},
          "execution_count": 58
        }
      ]
    },
    {
      "cell_type": "code",
      "metadata": {
        "id": "AiV9ZnQ7V1kj"
      },
      "source": [
        "F5 = J @ (R + S) \n",
        "F6 = (J @ R) + (J @ S)"
      ],
      "execution_count": null,
      "outputs": []
    },
    {
      "cell_type": "code",
      "metadata": {
        "colab": {
          "base_uri": "https://localhost:8080/"
        },
        "id": "U1XWuTWzWLab",
        "outputId": "d1360fa7-fe08-441e-ca86-7fbbfa882d1e"
      },
      "source": [
        "np.array_equal(F5, F6)"
      ],
      "execution_count": null,
      "outputs": [
        {
          "output_type": "execute_result",
          "data": {
            "text/plain": [
              "True"
            ]
          },
          "metadata": {},
          "execution_count": 60
        }
      ]
    },
    {
      "cell_type": "code",
      "metadata": {
        "id": "DWZVC_3_WQur"
      },
      "source": [
        "F7 = (R + S) @ J\n",
        "F8 = (R @ J) + (S @ J)"
      ],
      "execution_count": null,
      "outputs": []
    },
    {
      "cell_type": "code",
      "metadata": {
        "colab": {
          "base_uri": "https://localhost:8080/"
        },
        "id": "RMiXQdDMWmHY",
        "outputId": "b0d47f40-caf6-4bba-fc13-ae2c060cee9c"
      },
      "source": [
        "np.array_equal(F7, F8)"
      ],
      "execution_count": null,
      "outputs": [
        {
          "output_type": "execute_result",
          "data": {
            "text/plain": [
              "True"
            ]
          },
          "metadata": {},
          "execution_count": 62
        }
      ]
    },
    {
      "cell_type": "code",
      "metadata": {
        "id": "sJg_W1alXj1n"
      },
      "source": [
        "F9 = J @ np.eye(3)\n"
      ],
      "execution_count": null,
      "outputs": []
    },
    {
      "cell_type": "code",
      "metadata": {
        "colab": {
          "base_uri": "https://localhost:8080/"
        },
        "id": "krQdOR19Yu53",
        "outputId": "93a2e4fd-e07d-49a9-895d-41fc27396170"
      },
      "source": [
        "np.array_equal(F9, J)"
      ],
      "execution_count": null,
      "outputs": [
        {
          "output_type": "execute_result",
          "data": {
            "text/plain": [
              "True"
            ]
          },
          "metadata": {},
          "execution_count": 68
        }
      ]
    },
    {
      "cell_type": "markdown",
      "metadata": {
        "id": "eRjxwcy2Y_bi"
      },
      "source": [
        "### Determinants"
      ]
    },
    {
      "cell_type": "markdown",
      "metadata": {
        "id": "pbRqMaq7UaDK"
      },
      "source": [
        "A determinant is a scalar value derived from a square matrix. The determinant is a fundamental and important value used in matrix algebra. Although it will not be evident in this laboratory on how it can be used practically, but it will be reatly used in future lessons.\n",
        "\n",
        "The determinant of some matrix $A$ is denoted as $det(A)$ or $|A|$. So let's say $A$ is represented as:$$A = \\begin{bmatrix}a_{(0,0)}&amp;a_{(0,1)}\\\\a_{(1,0)}&amp;a_{(1,1)}\\end{bmatrix}$$We can compute for the determinant as:$$|A| = a_{(0,0)}*a_{(1,1)} - a_{(1,0)}*a_{(0,1)}$$So if we have $A$ as:$$A = \\begin{bmatrix}1&amp;4\\\\0&amp;3\\end{bmatrix}, |A| = 3$$\n",
        "\n",
        "But you might wonder how about square matrices beyond the shape $(2,2)$? We can approach this problem by using several methods such as co-factor expansion and the minors method. This can be taught in the lecture of the laboratory but we can achieve the strenuous computation of high-dimensional matrices programmatically using Python. We can achieve this by using np.linalg.det()."
      ]
    },
    {
      "cell_type": "code",
      "metadata": {
        "id": "GlzJbt16ZDtc"
      },
      "source": [
        "A = np.array([\n",
        "              [1, 4],\n",
        "              [0, 3]\n",
        "])"
      ],
      "execution_count": null,
      "outputs": []
    },
    {
      "cell_type": "code",
      "metadata": {
        "colab": {
          "base_uri": "https://localhost:8080/"
        },
        "id": "Kzs3mcFeZSnp",
        "outputId": "61f5f3f9-61da-42c1-fca2-917474da1d52"
      },
      "source": [
        "np.linalg.det(A)"
      ],
      "execution_count": null,
      "outputs": [
        {
          "output_type": "execute_result",
          "data": {
            "text/plain": [
              "3.0000000000000004"
            ]
          },
          "metadata": {},
          "execution_count": 72
        }
      ]
    },
    {
      "cell_type": "code",
      "metadata": {
        "id": "tFq612yuZcHA"
      },
      "source": [
        "B = np.array([\n",
        "              [1, 5, 2],\n",
        "              [3, -1, -1],\n",
        "              [0, -2, 1]\n",
        "])"
      ],
      "execution_count": null,
      "outputs": []
    },
    {
      "cell_type": "code",
      "metadata": {
        "colab": {
          "base_uri": "https://localhost:8080/"
        },
        "id": "8-6264AoZp7g",
        "outputId": "f83f7986-72c4-4981-e56a-4c3fb7c46f19"
      },
      "source": [
        "np.linalg.det(B)"
      ],
      "execution_count": null,
      "outputs": [
        {
          "output_type": "execute_result",
          "data": {
            "text/plain": [
              "-30.000000000000014"
            ]
          },
          "metadata": {},
          "execution_count": 74
        }
      ]
    },
    {
      "cell_type": "markdown",
      "metadata": {
        "id": "Rnm8_S0TaPD3"
      },
      "source": [
        "### Inverse"
      ]
    },
    {
      "cell_type": "markdown",
      "metadata": {
        "id": "ChTL6_rNUf7S"
      },
      "source": [
        "The inverse of a matrix is another fundamental operation in matrix algebra. Determining the inverse of a matrix let us determine if its solvability and its characteristic as a system of linear equation — we'll expand on this in the nect module. Another use of the inverse matrix is solving the problem of divisibility between matrices. Although element-wise division exists but dividing the entire concept of matrices does not exists. Inverse matrices provides a related operation that could have the same concept of \"dividing\" matrices.\n",
        "\n",
        "Now to determine the inverse of a matrix we need to perform several steps. So let's say we have a matrix $M$:$$M = \\begin{bmatrix}1&amp;7\\\\-3&amp;5\\end{bmatrix}$$First, we need to get the determinant of $M$.$$|M| = (1)(5)-(-3)(7) = 26$$Next, we need to reform the matrix into the inverse form:$$M^{-1} = \\frac{1}{|M|} \\begin{bmatrix} m_{(1,1)} &amp; -m_{(0,1)} \\\\ -m_{(1,0)} &amp; m_{(0,0)}\\end{bmatrix}$$So that will be:$$M^{-1} = \\frac{1}{26} \\begin{bmatrix} 5 &amp; -7 \\\\ 3 &amp; 1\\end{bmatrix} = \\begin{bmatrix} \\frac{5}{26} &amp; \\frac{-7}{26} \\\\ \\frac{3}{26} &amp; \\frac{1}{26}\\end{bmatrix}$$For higher-dimension matrices you might need to use co-factors, minors, adjugates, and other reduction techinques. To solve this programmatially we can use np.linalg.inv()."
      ]
    },
    {
      "cell_type": "code",
      "metadata": {
        "id": "GbqHgt8paR01"
      },
      "source": [
        "K = np.array([\n",
        "              [1, -5, 7],\n",
        "              [6, 4, 8],\n",
        "              [9, 7, -2]\n",
        "])\n",
        "\n",
        "L = np.linalg.inv(K)"
      ],
      "execution_count": null,
      "outputs": []
    },
    {
      "cell_type": "code",
      "metadata": {
        "colab": {
          "base_uri": "https://localhost:8080/"
        },
        "id": "-e7phI4VbqEM",
        "outputId": "e4a30f78-1f3d-4d6e-c51e-de9d3bf99491"
      },
      "source": [
        "K @ L"
      ],
      "execution_count": null,
      "outputs": [
        {
          "output_type": "execute_result",
          "data": {
            "text/plain": [
              "array([[ 1.00000000e+00, -8.32667268e-17, -5.55111512e-17],\n",
              "       [ 4.16333634e-17,  1.00000000e+00, -2.22044605e-16],\n",
              "       [-1.76941795e-16, -2.77555756e-17,  1.00000000e+00]])"
            ]
          },
          "metadata": {},
          "execution_count": 77
        }
      ]
    },
    {
      "cell_type": "code",
      "metadata": {
        "id": "Q2GfVTw8bv1s"
      },
      "source": [
        "M = K @ L"
      ],
      "execution_count": null,
      "outputs": []
    },
    {
      "cell_type": "code",
      "metadata": {
        "colab": {
          "base_uri": "https://localhost:8080/"
        },
        "id": "FkihUCrscH1G",
        "outputId": "21d0b2c8-313c-4792-c156-077f34418aba"
      },
      "source": [
        "np.array(M, dtype=int)"
      ],
      "execution_count": null,
      "outputs": [
        {
          "output_type": "execute_result",
          "data": {
            "text/plain": [
              "array([[0, 0, 0],\n",
              "       [0, 1, 0],\n",
              "       [0, 0, 0]])"
            ]
          },
          "metadata": {},
          "execution_count": 80
        }
      ]
    },
    {
      "cell_type": "markdown",
      "metadata": {
        "id": "slut_PcLUpyt"
      },
      "source": [
        "#**Activity**\n"
      ]
    },
    {
      "cell_type": "markdown",
      "metadata": {
        "id": "KdeGGau_U3q3"
      },
      "source": [
        "##**Task 1**"
      ]
    },
    {
      "cell_type": "markdown",
      "metadata": {
        "id": "gL1uU_bZU65L"
      },
      "source": [
        "Prove and implement the remaining 6 matrix multiplication properties. You may create your own matrices in which their shapes should not be lower than $(3,3)$. In your methodology, create individual flowcharts for each property and discuss the property you would then present your proofs or validity of your implementation in the results section by comparing your result to present functions from NumPy."
      ]
    },
    {
      "cell_type": "code",
      "metadata": {
        "id": "i26-_Ra_Vu4E"
      },
      "source": [
        "F = np.array([\n",
        "          [1, -5, 9],\n",
        "          [-7, 2, 8],\n",
        "          [4, 3, -6]\n",
        "          ])\n",
        "R = np.array([\n",
        "              [5, -2, 3],\n",
        "              [4, 8, 2],\n",
        "              [-1, 1, 9]\n",
        "])\n",
        "S = np.array([\n",
        "              [2, 4, -7],\n",
        "              [1, 4, 1],\n",
        "              [4, 3, 8]\n",
        "])\n",
        "I = np.eye(3)\n",
        "J = np.zeros(3)"
      ],
      "execution_count": 3,
      "outputs": []
    },
    {
      "cell_type": "markdown",
      "metadata": {
        "id": "7tiygSRiZncn"
      },
      "source": [
        "\n",
        "\n",
        "\n",
        "\n",
        "\n",
        "\n",
        "### Commutative Property"
      ]
    },
    {
      "cell_type": "markdown",
      "metadata": {
        "id": "RDryyF93afD2"
      },
      "source": [
        "Matrix Multiplication is not commutative. This is because multipliying matrix not just element by element which has different product if applying commutative property. As an example, using the Matrix Above the product of F x R not equal to R x F. Numpy **array_equal()** function can be use to verify if the two matrices are equal. "
      ]
    },
    {
      "cell_type": "code",
      "metadata": {
        "id": "wk-lB7TVauVZ"
      },
      "source": [
        "A1 = F @ R"
      ],
      "execution_count": null,
      "outputs": []
    },
    {
      "cell_type": "code",
      "metadata": {
        "id": "6089sGMObLr1"
      },
      "source": [
        "A2 = R @ F"
      ],
      "execution_count": null,
      "outputs": []
    },
    {
      "cell_type": "code",
      "metadata": {
        "colab": {
          "base_uri": "https://localhost:8080/"
        },
        "id": "GcqehNwocmMb",
        "outputId": "7f27d3ed-2052-436b-f22e-6b8ed80fa996"
      },
      "source": [
        "A1"
      ],
      "execution_count": null,
      "outputs": [
        {
          "output_type": "execute_result",
          "data": {
            "text/plain": [
              "array([[-24, -33,  74],\n",
              "       [-35,  38,  55],\n",
              "       [ 38,  10, -36]])"
            ]
          },
          "metadata": {},
          "execution_count": 24
        }
      ]
    },
    {
      "cell_type": "code",
      "metadata": {
        "colab": {
          "base_uri": "https://localhost:8080/"
        },
        "id": "3Qdw9yt8cqKO",
        "outputId": "f0ab74c5-b488-4ce9-e800-71b1ebe7c5a7"
      },
      "source": [
        "A2"
      ],
      "execution_count": null,
      "outputs": [
        {
          "output_type": "execute_result",
          "data": {
            "text/plain": [
              "array([[ 31, -20,  11],\n",
              "       [-44,   2,  88],\n",
              "       [ 28,  34, -55]])"
            ]
          },
          "metadata": {},
          "execution_count": 25
        }
      ]
    },
    {
      "cell_type": "code",
      "metadata": {
        "colab": {
          "base_uri": "https://localhost:8080/"
        },
        "id": "jXt22HAecFjZ",
        "outputId": "40bb0128-b757-45f0-aac5-533d69845b1b"
      },
      "source": [
        "np.array_equal(A1, A2)\n"
      ],
      "execution_count": null,
      "outputs": [
        {
          "output_type": "execute_result",
          "data": {
            "text/plain": [
              "False"
            ]
          },
          "metadata": {},
          "execution_count": 23
        }
      ]
    },
    {
      "cell_type": "markdown",
      "metadata": {
        "id": "AYmTxkDlbKJk"
      },
      "source": [
        "### ASSOCIATIVE PROPERTY"
      ]
    },
    {
      "cell_type": "markdown",
      "metadata": {
        "id": "xfdjezRJpwrO"
      },
      "source": [
        "You can change the grouping of the matrices and the product are still equal."
      ]
    },
    {
      "cell_type": "code",
      "metadata": {
        "colab": {
          "base_uri": "https://localhost:8080/",
          "height": 0
        },
        "id": "0dHLW3_DvNbb",
        "outputId": "96d20ac2-3128-4c36-b4f5-e8e7f362d992"
      },
      "source": [
        "A3 = (F @ R) @ S\n",
        "A4 = F @ (R @ S)\n",
        "\n",
        "np.array_equal(A3, A4)"
      ],
      "execution_count": 4,
      "outputs": [
        {
          "output_type": "execute_result",
          "data": {
            "text/plain": [
              "True"
            ]
          },
          "metadata": {},
          "execution_count": 4
        }
      ]
    },
    {
      "cell_type": "markdown",
      "metadata": {
        "id": "gZTPBt3Iv2PA"
      },
      "source": [
        "### DISTRIBUTIVE PROPERTY"
      ]
    },
    {
      "cell_type": "markdown",
      "metadata": {
        "id": "RrJOmGIAwVuV"
      },
      "source": [
        "The Matrices can be distributed just like in real numbers"
      ]
    },
    {
      "cell_type": "code",
      "metadata": {
        "colab": {
          "base_uri": "https://localhost:8080/",
          "height": 0
        },
        "id": "YMOx-G1dw83V",
        "outputId": "4eb11556-a8ce-4a2e-9ea1-ef6d9a446054"
      },
      "source": [
        "A5 = F @ (R + S)\n",
        "A6 = (F @ R) + (F @ S)\n",
        "np.array_equal(A5, A6)"
      ],
      "execution_count": 5,
      "outputs": [
        {
          "output_type": "execute_result",
          "data": {
            "text/plain": [
              "True"
            ]
          },
          "metadata": {},
          "execution_count": 5
        }
      ]
    },
    {
      "cell_type": "markdown",
      "metadata": {
        "id": "cCkUwo5kxu3_"
      },
      "source": [
        "###IDENTITY PROPERTY"
      ]
    },
    {
      "cell_type": "markdown",
      "metadata": {
        "id": "lZCB9XgUxyrV"
      },
      "source": [
        "Multiplying an n x n matrix to an identity matrix is equal to the n x n matrix."
      ]
    },
    {
      "cell_type": "code",
      "metadata": {
        "colab": {
          "base_uri": "https://localhost:8080/",
          "height": 0
        },
        "id": "v04MvA8hyIXf",
        "outputId": "4e170642-d086-40cf-c6cc-dcc1f56b97be"
      },
      "source": [
        "A7 = F @ I\n",
        "np.array_equal(A7, F)"
      ],
      "execution_count": 6,
      "outputs": [
        {
          "output_type": "execute_result",
          "data": {
            "text/plain": [
              "True"
            ]
          },
          "metadata": {},
          "execution_count": 6
        }
      ]
    },
    {
      "cell_type": "markdown",
      "metadata": {
        "id": "RPqzEHsLyfpf"
      },
      "source": [
        "### ZERO PROPERTY"
      ]
    },
    {
      "cell_type": "markdown",
      "metadata": {
        "id": "bihoyQhpywFv"
      },
      "source": [
        "Any n x n matrix multiply by n x n zero matrix is equal to zero."
      ]
    },
    {
      "cell_type": "code",
      "metadata": {
        "colab": {
          "base_uri": "https://localhost:8080/",
          "height": 0
        },
        "id": "zSn_CYAzy-Ug",
        "outputId": "9d85f125-a0a2-4d96-852d-d56fddf7a923"
      },
      "source": [
        "A8 = R @ J\n",
        "np.array_equal(A8, J)"
      ],
      "execution_count": 8,
      "outputs": [
        {
          "output_type": "execute_result",
          "data": {
            "text/plain": [
              "True"
            ]
          },
          "metadata": {},
          "execution_count": 8
        }
      ]
    },
    {
      "cell_type": "markdown",
      "metadata": {
        "id": "gVwlk7WF97eH"
      },
      "source": [
        "# CONCLUSION"
      ]
    },
    {
      "cell_type": "markdown",
      "metadata": {
        "id": "Z2s8S4Jl9-ZU"
      },
      "source": [
        "I conclude that with this laboratory excercise, I had been able to familiarize myself in matrix operations. I learned how to do transposition, dot products and determinants. Also, I am able to execute matrix multipilcation properties using numpy. "
      ]
    }
  ]
}